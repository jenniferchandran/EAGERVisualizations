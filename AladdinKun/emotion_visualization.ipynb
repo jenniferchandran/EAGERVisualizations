{
 "cells": [
  {
   "cell_type": "code",
   "execution_count": 1,
   "metadata": {},
   "outputs": [],
   "source": [
    "import pandas\n",
    "import folium\n",
    "import matplotlib.pyplot as plt\n",
    "import plotly.graph_objects as go\n",
    "import geocoder\n",
    "import plotly.express as px\n",
    "import seaborn as sns\n",
    "import webbrowser\n",
    "from dash import Dash, dcc, html, Input, Output\n",
    "import plotly.express as px"
   ]
  },
  {
   "cell_type": "code",
   "execution_count": 2,
   "metadata": {},
   "outputs": [],
   "source": [
    "data = pandas.read_csv('sentiment_final.csv')"
   ]
  },
  {
   "cell_type": "code",
   "execution_count": 3,
   "metadata": {},
   "outputs": [],
   "source": [
    "data = data.set_index('Unnamed: 0')"
   ]
  },
  {
   "cell_type": "code",
   "execution_count": 4,
   "metadata": {},
   "outputs": [
    {
     "data": {
      "text/html": [
       "<div>\n",
       "<style scoped>\n",
       "    .dataframe tbody tr th:only-of-type {\n",
       "        vertical-align: middle;\n",
       "    }\n",
       "\n",
       "    .dataframe tbody tr th {\n",
       "        vertical-align: top;\n",
       "    }\n",
       "\n",
       "    .dataframe thead th {\n",
       "        text-align: right;\n",
       "    }\n",
       "</style>\n",
       "<table border=\"1\" class=\"dataframe\">\n",
       "  <thead>\n",
       "    <tr style=\"text-align: right;\">\n",
       "      <th></th>\n",
       "      <th>date</th>\n",
       "      <th>Hiker trail name</th>\n",
       "      <th>Hiker Journal Link</th>\n",
       "      <th>Journal Story</th>\n",
       "      <th>Start location</th>\n",
       "      <th>Destination</th>\n",
       "      <th>Today Miles</th>\n",
       "      <th>Latitude</th>\n",
       "      <th>Longitude</th>\n",
       "      <th>State</th>\n",
       "      <th>Total Shelters</th>\n",
       "      <th>Occurrence</th>\n",
       "      <th>year</th>\n",
       "      <th>month</th>\n",
       "      <th>label</th>\n",
       "      <th>Emotion_scores</th>\n",
       "      <th>state</th>\n",
       "      <th>club</th>\n",
       "      <th>Acronym</th>\n",
       "    </tr>\n",
       "    <tr>\n",
       "      <th>Unnamed: 0</th>\n",
       "      <th></th>\n",
       "      <th></th>\n",
       "      <th></th>\n",
       "      <th></th>\n",
       "      <th></th>\n",
       "      <th></th>\n",
       "      <th></th>\n",
       "      <th></th>\n",
       "      <th></th>\n",
       "      <th></th>\n",
       "      <th></th>\n",
       "      <th></th>\n",
       "      <th></th>\n",
       "      <th></th>\n",
       "      <th></th>\n",
       "      <th></th>\n",
       "      <th></th>\n",
       "      <th></th>\n",
       "      <th></th>\n",
       "    </tr>\n",
       "  </thead>\n",
       "  <tbody>\n",
       "    <tr>\n",
       "      <th>5.0</th>\n",
       "      <td>1/1/2016 0:00</td>\n",
       "      <td>Hestia</td>\n",
       "      <td>https://www.trailjournals.com//journal/entry/5...</td>\n",
       "      <td>Woke up to 32F. Annie made coffee and we met P...</td>\n",
       "      <td>Hawk Mtn. Shelter\\n</td>\n",
       "      <td>gooch mt shelter</td>\n",
       "      <td>7.3</td>\n",
       "      <td>34.655694</td>\n",
       "      <td>-84.049957</td>\n",
       "      <td>Georgia</td>\n",
       "      <td>60.0</td>\n",
       "      <td>4.0</td>\n",
       "      <td>2016.0</td>\n",
       "      <td>1.0</td>\n",
       "      <td>neutral</td>\n",
       "      <td>[{'label': 'anger', 'score': 0.004779126960784...</td>\n",
       "      <td>GA</td>\n",
       "      <td>Georgia Appalachian Trail Club</td>\n",
       "      <td>GATC</td>\n",
       "    </tr>\n",
       "    <tr>\n",
       "      <th>6.0</th>\n",
       "      <td>1/1/2016 0:00</td>\n",
       "      <td>Brighty and Wreck</td>\n",
       "      <td>https://www.trailjournals.com//journal/entry/5...</td>\n",
       "      <td>Happy New Year!!! Our next to last section of ...</td>\n",
       "      <td>Ashby Gap\\n</td>\n",
       "      <td>trico tower</td>\n",
       "      <td>7.2</td>\n",
       "      <td>44.525200</td>\n",
       "      <td>-70.980900</td>\n",
       "      <td>NaN</td>\n",
       "      <td>29.0</td>\n",
       "      <td>1.0</td>\n",
       "      <td>2016.0</td>\n",
       "      <td>1.0</td>\n",
       "      <td>joy</td>\n",
       "      <td>[{'label': 'anger', 'score': 0.002314480487257...</td>\n",
       "      <td>ME</td>\n",
       "      <td>Appalachian Mountain Club</td>\n",
       "      <td>AMC</td>\n",
       "    </tr>\n",
       "    <tr>\n",
       "      <th>7.0</th>\n",
       "      <td>1/2/2016 0:00</td>\n",
       "      <td>Brother Blood</td>\n",
       "      <td>https://www.trailjournals.com//journal/entry/5...</td>\n",
       "      <td>It's 2016, and the past two weeks have been mo...</td>\n",
       "      <td>NaN</td>\n",
       "      <td>its 2016</td>\n",
       "      <td>0.0</td>\n",
       "      <td>37.817700</td>\n",
       "      <td>-79.070600</td>\n",
       "      <td>NaN</td>\n",
       "      <td>20.0</td>\n",
       "      <td>1.0</td>\n",
       "      <td>2016.0</td>\n",
       "      <td>1.0</td>\n",
       "      <td>neutral</td>\n",
       "      <td>[{'label': 'anger', 'score': 0.006532554049044...</td>\n",
       "      <td>VA</td>\n",
       "      <td>Tidewater Appalachian Trail Club</td>\n",
       "      <td>TATC</td>\n",
       "    </tr>\n",
       "    <tr>\n",
       "      <th>10.0</th>\n",
       "      <td>1/3/2016 0:00</td>\n",
       "      <td>Hestia</td>\n",
       "      <td>https://www.trailjournals.com//journal/entry/5...</td>\n",
       "      <td>Wow. Yesterday was crazy! I started my period ...</td>\n",
       "      <td>Blood Mtn Shelter\\n</td>\n",
       "      <td>mountain crossings hostel</td>\n",
       "      <td>1.5</td>\n",
       "      <td>36.809400</td>\n",
       "      <td>-81.422600</td>\n",
       "      <td>NaN</td>\n",
       "      <td>60.0</td>\n",
       "      <td>1.0</td>\n",
       "      <td>2016.0</td>\n",
       "      <td>1.0</td>\n",
       "      <td>sadness</td>\n",
       "      <td>NaN</td>\n",
       "      <td>VA</td>\n",
       "      <td>Piedmont Appalachian Trail Hikers</td>\n",
       "      <td>PATH</td>\n",
       "    </tr>\n",
       "    <tr>\n",
       "      <th>11.0</th>\n",
       "      <td>1/3/2016 0:00</td>\n",
       "      <td>SIMPLE MAN</td>\n",
       "      <td>https://www.trailjournals.com//journal/entry/5...</td>\n",
       "      <td>Hi,my name is Billy,trail name \"SIMPLE MAN\".I ...</td>\n",
       "      <td>NaN</td>\n",
       "      <td>maine</td>\n",
       "      <td>0.0</td>\n",
       "      <td>40.839400</td>\n",
       "      <td>-75.359800</td>\n",
       "      <td>NaN</td>\n",
       "      <td>0.0</td>\n",
       "      <td>17.0</td>\n",
       "      <td>2016.0</td>\n",
       "      <td>1.0</td>\n",
       "      <td>sadness</td>\n",
       "      <td>[{'label': 'anger', 'score': 0.002191700274124...</td>\n",
       "      <td>PA</td>\n",
       "      <td>AMC Delaware Valley Chapter</td>\n",
       "      <td>AMC-DV</td>\n",
       "    </tr>\n",
       "    <tr>\n",
       "      <th>...</th>\n",
       "      <td>...</td>\n",
       "      <td>...</td>\n",
       "      <td>...</td>\n",
       "      <td>...</td>\n",
       "      <td>...</td>\n",
       "      <td>...</td>\n",
       "      <td>...</td>\n",
       "      <td>...</td>\n",
       "      <td>...</td>\n",
       "      <td>...</td>\n",
       "      <td>...</td>\n",
       "      <td>...</td>\n",
       "      <td>...</td>\n",
       "      <td>...</td>\n",
       "      <td>...</td>\n",
       "      <td>...</td>\n",
       "      <td>...</td>\n",
       "      <td>...</td>\n",
       "      <td>...</td>\n",
       "    </tr>\n",
       "    <tr>\n",
       "      <th>33192.0</th>\n",
       "      <td>10/12/2023 0:00</td>\n",
       "      <td>Flippertree for Autism</td>\n",
       "      <td>https://www.trailjournals.com//journal/entry/4...</td>\n",
       "      <td>Our 2014 goal of getting to Swatara Gap is com...</td>\n",
       "      <td>Route 183\\n</td>\n",
       "      <td>rt 501</td>\n",
       "      <td>9.0</td>\n",
       "      <td>40.512510</td>\n",
       "      <td>-76.346900</td>\n",
       "      <td>NaN</td>\n",
       "      <td>1.0</td>\n",
       "      <td>1.0</td>\n",
       "      <td>2023.0</td>\n",
       "      <td>10.0</td>\n",
       "      <td>neutral</td>\n",
       "      <td>[{'label': 'anger', 'score': 0.012704795226454...</td>\n",
       "      <td>PA</td>\n",
       "      <td>Blue Mountain Eagle Climbing Club</td>\n",
       "      <td>BMECC</td>\n",
       "    </tr>\n",
       "    <tr>\n",
       "      <th>33212.0</th>\n",
       "      <td>11/9/2023 0:00</td>\n",
       "      <td>Flippertree for Autism</td>\n",
       "      <td>https://www.trailjournals.com//journal/entry/6...</td>\n",
       "      <td>Nick had a rough night in hotel.  I guess he w...</td>\n",
       "      <td>Neighbor Mountain Parking\\n</td>\n",
       "      <td>hogback</td>\n",
       "      <td>13.0</td>\n",
       "      <td>35.963950</td>\n",
       "      <td>-82.587200</td>\n",
       "      <td>NaN</td>\n",
       "      <td>1.0</td>\n",
       "      <td>1.0</td>\n",
       "      <td>2023.0</td>\n",
       "      <td>11.0</td>\n",
       "      <td>fear</td>\n",
       "      <td>[{'label': 'anger', 'score': 0.009218733757734...</td>\n",
       "      <td>NC</td>\n",
       "      <td>Carolina Mountain Club</td>\n",
       "      <td>CMC</td>\n",
       "    </tr>\n",
       "    <tr>\n",
       "      <th>33224.0</th>\n",
       "      <td>12/5/2023 0:00</td>\n",
       "      <td>Flippertree for Autism</td>\n",
       "      <td>https://www.trailjournals.com//journal/entry/5...</td>\n",
       "      <td>It was Tyler's Birthday and he wanted money to...</td>\n",
       "      <td>Route 225 Pedestrian Bridge Parking Lot\\n</td>\n",
       "      <td>clarks ferry bridge</td>\n",
       "      <td>6.7</td>\n",
       "      <td>40.392220</td>\n",
       "      <td>-76.994000</td>\n",
       "      <td>NaN</td>\n",
       "      <td>1.0</td>\n",
       "      <td>1.0</td>\n",
       "      <td>2023.0</td>\n",
       "      <td>12.0</td>\n",
       "      <td>neutral</td>\n",
       "      <td>[{'label': 'anger', 'score': 0.014029124751687...</td>\n",
       "      <td>PA</td>\n",
       "      <td>NaN</td>\n",
       "      <td>NaN</td>\n",
       "    </tr>\n",
       "    <tr>\n",
       "      <th>33233.0</th>\n",
       "      <td>12/14/2023 0:00</td>\n",
       "      <td>NARSIL aka Father Time</td>\n",
       "      <td>https://www.trailjournals.com//journal/entry/5...</td>\n",
       "      <td>I have done several practice hikes including m...</td>\n",
       "      <td>NaN</td>\n",
       "      <td>view entry</td>\n",
       "      <td>0.0</td>\n",
       "      <td>34.712400</td>\n",
       "      <td>-83.834400</td>\n",
       "      <td>NaN</td>\n",
       "      <td>1.0</td>\n",
       "      <td>236.0</td>\n",
       "      <td>2023.0</td>\n",
       "      <td>12.0</td>\n",
       "      <td>neutral</td>\n",
       "      <td>[{'label': 'anger', 'score': 0.005320651456713...</td>\n",
       "      <td>GA</td>\n",
       "      <td>Georgia Appalachian Trail Club</td>\n",
       "      <td>GATC</td>\n",
       "    </tr>\n",
       "    <tr>\n",
       "      <th>33253.0</th>\n",
       "      <td>12/30/2023 0:00</td>\n",
       "      <td>Flippertree for Autism</td>\n",
       "      <td>https://www.trailjournals.com//journal/entry/6...</td>\n",
       "      <td>The mild winter has allowed us to pretty much ...</td>\n",
       "      <td>Bearwallow Gap\\n</td>\n",
       "      <td>cove mountain shelter</td>\n",
       "      <td>8.6</td>\n",
       "      <td>40.363460</td>\n",
       "      <td>-77.067800</td>\n",
       "      <td>NaN</td>\n",
       "      <td>1.0</td>\n",
       "      <td>2.0</td>\n",
       "      <td>2023.0</td>\n",
       "      <td>12.0</td>\n",
       "      <td>joy</td>\n",
       "      <td>[{'label': 'anger', 'score': 0.010889950208365...</td>\n",
       "      <td>PA</td>\n",
       "      <td>Mountain Club of Maryland</td>\n",
       "      <td>MCM</td>\n",
       "    </tr>\n",
       "  </tbody>\n",
       "</table>\n",
       "<p>15489 rows × 19 columns</p>\n",
       "</div>"
      ],
      "text/plain": [
       "                       date        Hiker trail name  \\\n",
       "Unnamed: 0                                            \n",
       "5.0           1/1/2016 0:00                  Hestia   \n",
       "6.0           1/1/2016 0:00       Brighty and Wreck   \n",
       "7.0           1/2/2016 0:00           Brother Blood   \n",
       "10.0          1/3/2016 0:00                  Hestia   \n",
       "11.0          1/3/2016 0:00              SIMPLE MAN   \n",
       "...                     ...                     ...   \n",
       "33192.0     10/12/2023 0:00  Flippertree for Autism   \n",
       "33212.0      11/9/2023 0:00  Flippertree for Autism   \n",
       "33224.0      12/5/2023 0:00  Flippertree for Autism   \n",
       "33233.0     12/14/2023 0:00  NARSIL aka Father Time   \n",
       "33253.0     12/30/2023 0:00  Flippertree for Autism   \n",
       "\n",
       "                                           Hiker Journal Link  \\\n",
       "Unnamed: 0                                                      \n",
       "5.0         https://www.trailjournals.com//journal/entry/5...   \n",
       "6.0         https://www.trailjournals.com//journal/entry/5...   \n",
       "7.0         https://www.trailjournals.com//journal/entry/5...   \n",
       "10.0        https://www.trailjournals.com//journal/entry/5...   \n",
       "11.0        https://www.trailjournals.com//journal/entry/5...   \n",
       "...                                                       ...   \n",
       "33192.0     https://www.trailjournals.com//journal/entry/4...   \n",
       "33212.0     https://www.trailjournals.com//journal/entry/6...   \n",
       "33224.0     https://www.trailjournals.com//journal/entry/5...   \n",
       "33233.0     https://www.trailjournals.com//journal/entry/5...   \n",
       "33253.0     https://www.trailjournals.com//journal/entry/6...   \n",
       "\n",
       "                                                Journal Story  \\\n",
       "Unnamed: 0                                                      \n",
       "5.0         Woke up to 32F. Annie made coffee and we met P...   \n",
       "6.0         Happy New Year!!! Our next to last section of ...   \n",
       "7.0         It's 2016, and the past two weeks have been mo...   \n",
       "10.0        Wow. Yesterday was crazy! I started my period ...   \n",
       "11.0        Hi,my name is Billy,trail name \"SIMPLE MAN\".I ...   \n",
       "...                                                       ...   \n",
       "33192.0     Our 2014 goal of getting to Swatara Gap is com...   \n",
       "33212.0     Nick had a rough night in hotel.  I guess he w...   \n",
       "33224.0     It was Tyler's Birthday and he wanted money to...   \n",
       "33233.0     I have done several practice hikes including m...   \n",
       "33253.0     The mild winter has allowed us to pretty much ...   \n",
       "\n",
       "                                       Start location  \\\n",
       "Unnamed: 0                                              \n",
       "5.0                               Hawk Mtn. Shelter\\n   \n",
       "6.0                                       Ashby Gap\\n   \n",
       "7.0                                               NaN   \n",
       "10.0                              Blood Mtn Shelter\\n   \n",
       "11.0                                              NaN   \n",
       "...                                               ...   \n",
       "33192.0                                   Route 183\\n   \n",
       "33212.0                   Neighbor Mountain Parking\\n   \n",
       "33224.0     Route 225 Pedestrian Bridge Parking Lot\\n   \n",
       "33233.0                                           NaN   \n",
       "33253.0                              Bearwallow Gap\\n   \n",
       "\n",
       "                          Destination  Today Miles   Latitude  Longitude  \\\n",
       "Unnamed: 0                                                                 \n",
       "5.0                  gooch mt shelter          7.3  34.655694 -84.049957   \n",
       "6.0                       trico tower          7.2  44.525200 -70.980900   \n",
       "7.0                          its 2016          0.0  37.817700 -79.070600   \n",
       "10.0        mountain crossings hostel          1.5  36.809400 -81.422600   \n",
       "11.0                            maine          0.0  40.839400 -75.359800   \n",
       "...                               ...          ...        ...        ...   \n",
       "33192.0                        rt 501          9.0  40.512510 -76.346900   \n",
       "33212.0                       hogback         13.0  35.963950 -82.587200   \n",
       "33224.0           clarks ferry bridge          6.7  40.392220 -76.994000   \n",
       "33233.0                    view entry          0.0  34.712400 -83.834400   \n",
       "33253.0         cove mountain shelter          8.6  40.363460 -77.067800   \n",
       "\n",
       "              State  Total Shelters  Occurrence    year  month    label  \\\n",
       "Unnamed: 0                                                                \n",
       "5.0         Georgia            60.0         4.0  2016.0    1.0  neutral   \n",
       "6.0             NaN            29.0         1.0  2016.0    1.0      joy   \n",
       "7.0             NaN            20.0         1.0  2016.0    1.0  neutral   \n",
       "10.0            NaN            60.0         1.0  2016.0    1.0  sadness   \n",
       "11.0            NaN             0.0        17.0  2016.0    1.0  sadness   \n",
       "...             ...             ...         ...     ...    ...      ...   \n",
       "33192.0         NaN             1.0         1.0  2023.0   10.0  neutral   \n",
       "33212.0         NaN             1.0         1.0  2023.0   11.0     fear   \n",
       "33224.0         NaN             1.0         1.0  2023.0   12.0  neutral   \n",
       "33233.0         NaN             1.0       236.0  2023.0   12.0  neutral   \n",
       "33253.0         NaN             1.0         2.0  2023.0   12.0      joy   \n",
       "\n",
       "                                               Emotion_scores state  \\\n",
       "Unnamed: 0                                                            \n",
       "5.0         [{'label': 'anger', 'score': 0.004779126960784...    GA   \n",
       "6.0         [{'label': 'anger', 'score': 0.002314480487257...    ME   \n",
       "7.0         [{'label': 'anger', 'score': 0.006532554049044...    VA   \n",
       "10.0                                                      NaN    VA   \n",
       "11.0        [{'label': 'anger', 'score': 0.002191700274124...    PA   \n",
       "...                                                       ...   ...   \n",
       "33192.0     [{'label': 'anger', 'score': 0.012704795226454...    PA   \n",
       "33212.0     [{'label': 'anger', 'score': 0.009218733757734...    NC   \n",
       "33224.0     [{'label': 'anger', 'score': 0.014029124751687...    PA   \n",
       "33233.0     [{'label': 'anger', 'score': 0.005320651456713...    GA   \n",
       "33253.0     [{'label': 'anger', 'score': 0.010889950208365...    PA   \n",
       "\n",
       "                                         club Acronym  \n",
       "Unnamed: 0                                             \n",
       "5.0            Georgia Appalachian Trail Club    GATC  \n",
       "6.0                 Appalachian Mountain Club     AMC  \n",
       "7.0          Tidewater Appalachian Trail Club    TATC  \n",
       "10.0        Piedmont Appalachian Trail Hikers    PATH  \n",
       "11.0              AMC Delaware Valley Chapter  AMC-DV  \n",
       "...                                       ...     ...  \n",
       "33192.0     Blue Mountain Eagle Climbing Club   BMECC  \n",
       "33212.0                Carolina Mountain Club     CMC  \n",
       "33224.0                                   NaN     NaN  \n",
       "33233.0        Georgia Appalachian Trail Club    GATC  \n",
       "33253.0             Mountain Club of Maryland     MCM  \n",
       "\n",
       "[15489 rows x 19 columns]"
      ]
     },
     "execution_count": 4,
     "metadata": {},
     "output_type": "execute_result"
    }
   ],
   "source": [
    "data"
   ]
  },
  {
   "cell_type": "markdown",
   "metadata": {},
   "source": [
    "## Folium"
   ]
  },
  {
   "cell_type": "code",
   "execution_count": 5,
   "metadata": {},
   "outputs": [],
   "source": [
    "# t = data[data['year'] == 2016]\n",
    "# t = t[t['label'] == 'joy']"
   ]
  },
  {
   "cell_type": "code",
   "execution_count": 6,
   "metadata": {},
   "outputs": [],
   "source": [
    "# #color = ['blue', 'orange', 'purple', 'green', 'pink', 'cyan', 'lime', 'yellow', 'red', 'navy', 'brown']\n",
    "\n",
    "# #pin_color = ['darkblue', 'orange', 'purple', 'green', 'pink', 'lightblue', 'lightgreen', 'beige', 'red']\n",
    "# map = folium.Map(location=[38, -84], zoom_start=6, min_zoom=5, max_bounds=True)\n",
    "# for index in range(len(t)):\n",
    "#     df = t.iloc[index]\n",
    "#     #popup = folium.Popup(htmldiplay(data_clean[data_clean['beachid'] == index]), max_width=900)\n",
    "#     marker = folium.Marker([df['Latitude'], df['Longitude']])\n",
    "#     marker.add_to(map)\n",
    "\n",
    "# map"
   ]
  },
  {
   "cell_type": "markdown",
   "metadata": {},
   "source": [
    "## Plotly: Emotion Distribution over States"
   ]
  },
  {
   "cell_type": "code",
   "execution_count": 7,
   "metadata": {},
   "outputs": [],
   "source": [
    "emotion = 'neutral'\n",
    "year = 2020\n",
    "month = 7"
   ]
  },
  {
   "cell_type": "code",
   "execution_count": 8,
   "metadata": {},
   "outputs": [
    {
     "data": {
      "text/html": [
       "<div>\n",
       "<style scoped>\n",
       "    .dataframe tbody tr th:only-of-type {\n",
       "        vertical-align: middle;\n",
       "    }\n",
       "\n",
       "    .dataframe tbody tr th {\n",
       "        vertical-align: top;\n",
       "    }\n",
       "\n",
       "    .dataframe thead th {\n",
       "        text-align: right;\n",
       "    }\n",
       "</style>\n",
       "<table border=\"1\" class=\"dataframe\">\n",
       "  <thead>\n",
       "    <tr style=\"text-align: right;\">\n",
       "      <th></th>\n",
       "      <th>state</th>\n",
       "      <th>count</th>\n",
       "    </tr>\n",
       "  </thead>\n",
       "  <tbody>\n",
       "    <tr>\n",
       "      <th>8</th>\n",
       "      <td>CT</td>\n",
       "      <td>1</td>\n",
       "    </tr>\n",
       "    <tr>\n",
       "      <th>4</th>\n",
       "      <td>GA</td>\n",
       "      <td>2</td>\n",
       "    </tr>\n",
       "    <tr>\n",
       "      <th>3</th>\n",
       "      <td>MA</td>\n",
       "      <td>5</td>\n",
       "    </tr>\n",
       "    <tr>\n",
       "      <th>1</th>\n",
       "      <td>NC</td>\n",
       "      <td>6</td>\n",
       "    </tr>\n",
       "    <tr>\n",
       "      <th>7</th>\n",
       "      <td>NY</td>\n",
       "      <td>1</td>\n",
       "    </tr>\n",
       "    <tr>\n",
       "      <th>6</th>\n",
       "      <td>PA</td>\n",
       "      <td>1</td>\n",
       "    </tr>\n",
       "    <tr>\n",
       "      <th>5</th>\n",
       "      <td>TN</td>\n",
       "      <td>2</td>\n",
       "    </tr>\n",
       "    <tr>\n",
       "      <th>0</th>\n",
       "      <td>VA</td>\n",
       "      <td>8</td>\n",
       "    </tr>\n",
       "    <tr>\n",
       "      <th>2</th>\n",
       "      <td>VT</td>\n",
       "      <td>5</td>\n",
       "    </tr>\n",
       "  </tbody>\n",
       "</table>\n",
       "</div>"
      ],
      "text/plain": [
       "  state  count\n",
       "8    CT      1\n",
       "4    GA      2\n",
       "3    MA      5\n",
       "1    NC      6\n",
       "7    NY      1\n",
       "6    PA      1\n",
       "5    TN      2\n",
       "0    VA      8\n",
       "2    VT      5"
      ]
     },
     "execution_count": 8,
     "metadata": {},
     "output_type": "execute_result"
    }
   ],
   "source": [
    "df = data[(data['label'] == emotion) & (data['year'] == year) & (data['month'] == month)]['state'].value_counts().reset_index().sort_values('state')\n",
    "df"
   ]
  },
  {
   "cell_type": "code",
   "execution_count": 9,
   "metadata": {},
   "outputs": [
    {
     "data": {
      "text/plain": [
       "0    1\n",
       "1    2\n",
       "2    5\n",
       "3    6\n",
       "4    1\n",
       "5    1\n",
       "6    2\n",
       "7    8\n",
       "8    5\n",
       "Name: count, dtype: int64"
      ]
     },
     "execution_count": 9,
     "metadata": {},
     "output_type": "execute_result"
    }
   ],
   "source": [
    "a = df['count'].reset_index(drop=True)\n",
    "#data[(data['label'] == emotion) & (data['year'] == year) & (data['month'] == month)]['state'].value_counts().reindex(data.state.unique(), fill_value=0).sort_index()\n",
    "a"
   ]
  },
  {
   "cell_type": "code",
   "execution_count": 10,
   "metadata": {},
   "outputs": [
    {
     "data": {
      "text/plain": [
       "0     4\n",
       "1     5\n",
       "2     7\n",
       "3    13\n",
       "4     2\n",
       "5     6\n",
       "6     7\n",
       "7    22\n",
       "8     8\n",
       "Name: count, dtype: int64"
      ]
     },
     "execution_count": 10,
     "metadata": {},
     "output_type": "execute_result"
    }
   ],
   "source": [
    "b = data[(data['year'] == year) & (data['month'] == month)]['state'].value_counts().reindex(df.state.unique(), fill_value=0).sort_index().reset_index(drop=True)\n",
    "b"
   ]
  },
  {
   "cell_type": "code",
   "execution_count": 32,
   "metadata": {},
   "outputs": [
    {
     "data": {
      "text/html": [
       "\n",
       "        <iframe\n",
       "            width=\"100%\"\n",
       "            height=\"650\"\n",
       "            src=\"http://127.0.0.1:8050/\"\n",
       "            frameborder=\"0\"\n",
       "            allowfullscreen\n",
       "            \n",
       "        ></iframe>\n",
       "        "
      ],
      "text/plain": [
       "<IPython.lib.display.IFrame at 0x2aad39dd0>"
      ]
     },
     "metadata": {},
     "output_type": "display_data"
    }
   ],
   "source": [
    "app = Dash(__name__)\n",
    "\n",
    "\n",
    "app.layout = html.Div([\n",
    "    html.H4('Emotion distribution over States'),\n",
    "    html.P(\"Select an Emotion:\"),\n",
    "    dcc.RadioItems(\n",
    "        id='emotion', \n",
    "        options=[{'label': emotion, 'value': emotion} for emotion in ['neutral', 'joy', 'sadness', 'surprise', 'fear', 'anger', 'disgust']],\n",
    "        value=\"neutral\",\n",
    "        inline=True\n",
    "    ),\n",
    "    html.P(\"Select a Year:\"),\n",
    "    dcc.Slider(\n",
    "        id='year-slider',\n",
    "        min=2016,\n",
    "        max=2023,\n",
    "        value=2023,\n",
    "        marks={str(year): str(year) for year in range(2016, 2024)},\n",
    "        step=None\n",
    "    ),\n",
    "    html.P(\"Select a Month:\"),\n",
    "    dcc.Slider(\n",
    "        id='month-slider',\n",
    "        min=1,\n",
    "        max=12,\n",
    "        value=1,\n",
    "        marks={str(month): str(month) for month in range(1, 13)},\n",
    "        step=None\n",
    "    ),\n",
    "    html.P(\"Whole Year:\"),\n",
    "    dcc.Checklist(\n",
    "        id='month-toggle',\n",
    "        options=[{'label': '', 'value': 'ignore'}],\n",
    "        value=[]\n",
    "    ),\n",
    "    dcc.Graph(id=\"graph\"),\n",
    "])\n",
    "\n",
    "@app.callback(\n",
    "    Output(\"graph\", \"figure\"), \n",
    "    [Input(\"emotion\", \"value\"),\n",
    "     Input(\"year-slider\", \"value\"),\n",
    "     Input(\"month-slider\", \"value\"),\n",
    "     Input(\"month-toggle\", \"value\")]\n",
    ")\n",
    "def display_choropleth(emotion, year, month, month_toggle):\n",
    "    if 'ignore' in month_toggle:\n",
    "        df = data[(data['label'] == emotion) & (data['year'] == year)]['state'].value_counts().reset_index().sort_values('state')\n",
    "        b = data[(data['year'] == year)]['state'].value_counts().reindex(df.state.unique(), fill_value=0).sort_index().reset_index(drop=True)\n",
    "    else:\n",
    "        df = data[(data['label'] == emotion) & (data['year'] == year) & (data['month'] == month)]['state'].value_counts().reset_index().sort_values('state')\n",
    "        b = data[(data['year'] == year) & (data['month'] == month)]['state'].value_counts().reindex(df.state.unique(), fill_value=0).sort_index().reset_index(drop=True)\n",
    "    a = df['count'].reset_index(drop=True)\n",
    "    df['proportion'] = round(a/b, 4)*100\n",
    "    \n",
    "    \n",
    "    fig = px.choropleth(\n",
    "        df,\n",
    "        locationmode=\"USA-states\",\n",
    "        locations='state',\n",
    "        color='proportion',\n",
    "        scope=\"usa\",\n",
    "        color_continuous_scale=\"OrRd\",\n",
    "        range_color=(0,100),\n",
    "        title='Emotion distribution over States'\n",
    "    )\n",
    "    #fig.update_geos(fitbounds=\"locations\", visible=False)\n",
    "    fig.update_layout(margin={\"r\":0,\"t\":0,\"l\":0,\"b\":0})\n",
    "\n",
    "    return fig\n",
    "\n",
    "\n",
    "webbrowser.open('http://127.0.0.1:8050/', new=2, autoraise=True)\n",
    "app.run_server(debug=True)"
   ]
  },
  {
   "cell_type": "markdown",
   "metadata": {},
   "source": [
    "## Ploty: Emotion Distribution over Clubs"
   ]
  },
  {
   "cell_type": "code",
   "execution_count": 12,
   "metadata": {},
   "outputs": [],
   "source": [
    "# g = pandas.read_excel(\"Trail Clubs' Geo-location data.xlsx\")"
   ]
  },
  {
   "cell_type": "code",
   "execution_count": 13,
   "metadata": {},
   "outputs": [],
   "source": [
    "# def get_label_for_coordinate(lat, lon, df):\n",
    "#     \"\"\"\n",
    "#     Get the label for a coordinate if it falls into any box defined in the dataframe.\n",
    "\n",
    "#     Parameters:\n",
    "#     - lat (float): Latitude of the point.\n",
    "#     - lon (float): Longitude of the point.\n",
    "#     - df (pd.DataFrame): Dataframe containing the box coordinates and labels.\n",
    "\n",
    "#     Returns:\n",
    "#     - str: Label of the box the point falls into or None if the point is outside all boxes.\n",
    "#     \"\"\"\n",
    "#     if pandas.isna(lat) or pandas.isna(lon):\n",
    "#         return pandas.NA\n",
    "    \n",
    "#     try:\n",
    "#         lat = float(lat)\n",
    "#         lon = float(lon)\n",
    "#     except:\n",
    "#         return pandas.NA\n",
    "#     for index, row in df.iterrows():\n",
    "#         if (row['latitude_start'] <= lat <= row['latitude_end']) and (row['longitude_start'] <= lon <= row['longitude_end']):\n",
    "#             return row['Acronym']\n",
    "    \n",
    "#     return pandas.NA"
   ]
  },
  {
   "cell_type": "code",
   "execution_count": 14,
   "metadata": {},
   "outputs": [],
   "source": [
    "# p = pandas.read_excel('state_added_update.xlsx')"
   ]
  },
  {
   "cell_type": "code",
   "execution_count": 15,
   "metadata": {},
   "outputs": [],
   "source": [
    "# p"
   ]
  },
  {
   "cell_type": "code",
   "execution_count": 16,
   "metadata": {},
   "outputs": [],
   "source": [
    "# p['Acronym'] = p.apply(lambda row: get_label_for_coordinate(row['Latitude'], row['Longitude'], g), axis=1)"
   ]
  },
  {
   "cell_type": "code",
   "execution_count": 17,
   "metadata": {},
   "outputs": [
    {
     "data": {
      "text/html": [
       "\n",
       "        <iframe\n",
       "            width=\"100%\"\n",
       "            height=\"650\"\n",
       "            src=\"http://127.0.0.1:8050/\"\n",
       "            frameborder=\"0\"\n",
       "            allowfullscreen\n",
       "            \n",
       "        ></iframe>\n",
       "        "
      ],
      "text/plain": [
       "<IPython.lib.display.IFrame at 0x2a13f6310>"
      ]
     },
     "metadata": {},
     "output_type": "display_data"
    }
   ],
   "source": [
    "app = Dash(__name__)\n",
    "\n",
    "\n",
    "app.layout = html.Div([\n",
    "    html.H4('Emotion distribution over Clubs'),\n",
    "    html.P(\"Select an Emotion:\"),\n",
    "    dcc.RadioItems(\n",
    "        id='emotion', \n",
    "        options=[{'label': emotion, 'value': emotion} for emotion in ['neutral', 'joy', 'sadness', 'surprise', 'fear', 'anger', 'disgust']],\n",
    "        value=\"neutral\",\n",
    "        inline=True\n",
    "    ),\n",
    "    html.P(\"Select a Year:\"),\n",
    "    dcc.Slider(\n",
    "        id='year-slider',\n",
    "        min=2016,\n",
    "        max=2023,\n",
    "        value=2023,\n",
    "        marks={str(year): str(year) for year in range(2016, 2024)},\n",
    "        step=None\n",
    "    ),\n",
    "    html.P(\"Select a Month:\"),\n",
    "    dcc.Slider(\n",
    "        id='month-slider',\n",
    "        min=1,\n",
    "        max=12,\n",
    "        value=1,\n",
    "        marks={str(month): str(month) for month in range(1, 13)},\n",
    "        step=None\n",
    "    ),\n",
    "    html.P(\"Whole Year:\"),\n",
    "    dcc.Checklist(\n",
    "        id='month-toggle',\n",
    "        options=[{'label': '', 'value': 'ignore'}],\n",
    "        value=[]\n",
    "    ),\n",
    "    dcc.Graph(id=\"graph\"),\n",
    "])\n",
    "\n",
    "@app.callback(\n",
    "    Output(\"graph\", \"figure\"), \n",
    "    [Input(\"emotion\", \"value\"),\n",
    "     Input(\"year-slider\", \"value\"),\n",
    "     Input(\"month-slider\", \"value\")],\n",
    "     Input(\"month-toggle\", \"value\")\n",
    ")\n",
    "def display_choropleth(emotion, year, month, month_toggle):\n",
    "    if 'ignore' in month_toggle:\n",
    "        df = data[(data['label'] == emotion) & (data['year'] == year)]\n",
    "    else:\n",
    "        df = data[(data['label'] == emotion) & (data['year'] == year) & (data['month'] == month)]\n",
    "\n",
    "    # Use seaborn to generate a palette of 24 colors\n",
    "    colors = sns.color_palette(\"husl\", 24).as_hex()\n",
    "\n",
    "    # Create a color map for each unique club\n",
    "    clubs = df['club'].unique()\n",
    "    if len(clubs) > len(colors):\n",
    "        raise ValueError(\"The number of unique clubs exceeds available colors.\")\n",
    "\n",
    "    color_map = dict(zip(clubs, colors))\n",
    "    \n",
    "    # Create an empty figure\n",
    "    fig = go.Figure()\n",
    "\n",
    "    # Add a trace for each club\n",
    "    for club in clubs:\n",
    "        subset = df[df['club'] == club]\n",
    "        fig.add_trace(go.Scattergeo(\n",
    "            lon = subset['Longitude'],\n",
    "            lat = subset['Latitude'],\n",
    "            text = subset['label'],\n",
    "            mode = 'markers',\n",
    "            marker = dict(\n",
    "                color = color_map[club],\n",
    "                size = 8,\n",
    "                opacity = 0.3\n",
    "            ),\n",
    "            name = club,\n",
    "            showlegend=True\n",
    "        ))\n",
    "\n",
    "    fig.update_layout(\n",
    "            # title = 'Emotion distribution over Clubs',\n",
    "            geo_scope='usa',\n",
    "        )\n",
    "\n",
    "    return fig\n",
    "\n",
    "\n",
    "app.run_server(debug=True)"
   ]
  },
  {
   "cell_type": "markdown",
   "metadata": {},
   "source": [
    "## Bar plot for Propoertion 1"
   ]
  },
  {
   "cell_type": "code",
   "execution_count": 18,
   "metadata": {},
   "outputs": [
    {
     "data": {
      "text/plain": [
       "Unnamed: 0\n",
       "5.0        GA\n",
       "6.0        ME\n",
       "7.0        VA\n",
       "10.0       VA\n",
       "11.0       PA\n",
       "           ..\n",
       "33192.0    PA\n",
       "33212.0    NC\n",
       "33224.0    PA\n",
       "33233.0    GA\n",
       "33253.0    PA\n",
       "Name: state, Length: 15489, dtype: object"
      ]
     },
     "execution_count": 18,
     "metadata": {},
     "output_type": "execute_result"
    }
   ],
   "source": [
    "data['state']"
   ]
  },
  {
   "cell_type": "code",
   "execution_count": 19,
   "metadata": {},
   "outputs": [
    {
     "data": {
      "text/html": [
       "<div>\n",
       "<style scoped>\n",
       "    .dataframe tbody tr th:only-of-type {\n",
       "        vertical-align: middle;\n",
       "    }\n",
       "\n",
       "    .dataframe tbody tr th {\n",
       "        vertical-align: top;\n",
       "    }\n",
       "\n",
       "    .dataframe thead th {\n",
       "        text-align: right;\n",
       "    }\n",
       "</style>\n",
       "<table border=\"1\" class=\"dataframe\">\n",
       "  <thead>\n",
       "    <tr style=\"text-align: right;\">\n",
       "      <th></th>\n",
       "      <th>date</th>\n",
       "      <th>Hiker trail name</th>\n",
       "      <th>Hiker Journal Link</th>\n",
       "      <th>Journal Story</th>\n",
       "      <th>Start location</th>\n",
       "      <th>Destination</th>\n",
       "      <th>Today Miles</th>\n",
       "      <th>Latitude</th>\n",
       "      <th>Longitude</th>\n",
       "      <th>State</th>\n",
       "      <th>Total Shelters</th>\n",
       "      <th>Occurrence</th>\n",
       "      <th>year</th>\n",
       "      <th>month</th>\n",
       "      <th>label</th>\n",
       "      <th>Emotion_scores</th>\n",
       "      <th>state</th>\n",
       "      <th>club</th>\n",
       "      <th>Acronym</th>\n",
       "    </tr>\n",
       "    <tr>\n",
       "      <th>Unnamed: 0</th>\n",
       "      <th></th>\n",
       "      <th></th>\n",
       "      <th></th>\n",
       "      <th></th>\n",
       "      <th></th>\n",
       "      <th></th>\n",
       "      <th></th>\n",
       "      <th></th>\n",
       "      <th></th>\n",
       "      <th></th>\n",
       "      <th></th>\n",
       "      <th></th>\n",
       "      <th></th>\n",
       "      <th></th>\n",
       "      <th></th>\n",
       "      <th></th>\n",
       "      <th></th>\n",
       "      <th></th>\n",
       "      <th></th>\n",
       "    </tr>\n",
       "  </thead>\n",
       "  <tbody>\n",
       "    <tr>\n",
       "      <th>5.0</th>\n",
       "      <td>1/1/2016 0:00</td>\n",
       "      <td>Hestia</td>\n",
       "      <td>https://www.trailjournals.com//journal/entry/5...</td>\n",
       "      <td>Woke up to 32F. Annie made coffee and we met P...</td>\n",
       "      <td>Hawk Mtn. Shelter\\n</td>\n",
       "      <td>gooch mt shelter</td>\n",
       "      <td>7.3</td>\n",
       "      <td>34.655694</td>\n",
       "      <td>-84.049957</td>\n",
       "      <td>Georgia</td>\n",
       "      <td>60.0</td>\n",
       "      <td>4.0</td>\n",
       "      <td>2016.0</td>\n",
       "      <td>1.0</td>\n",
       "      <td>neutral</td>\n",
       "      <td>[{'label': 'anger', 'score': 0.004779126960784...</td>\n",
       "      <td>GA</td>\n",
       "      <td>Georgia Appalachian Trail Club</td>\n",
       "      <td>GATC</td>\n",
       "    </tr>\n",
       "    <tr>\n",
       "      <th>6.0</th>\n",
       "      <td>1/1/2016 0:00</td>\n",
       "      <td>Brighty and Wreck</td>\n",
       "      <td>https://www.trailjournals.com//journal/entry/5...</td>\n",
       "      <td>Happy New Year!!! Our next to last section of ...</td>\n",
       "      <td>Ashby Gap\\n</td>\n",
       "      <td>trico tower</td>\n",
       "      <td>7.2</td>\n",
       "      <td>44.525200</td>\n",
       "      <td>-70.980900</td>\n",
       "      <td>NaN</td>\n",
       "      <td>29.0</td>\n",
       "      <td>1.0</td>\n",
       "      <td>2016.0</td>\n",
       "      <td>1.0</td>\n",
       "      <td>joy</td>\n",
       "      <td>[{'label': 'anger', 'score': 0.002314480487257...</td>\n",
       "      <td>ME</td>\n",
       "      <td>Appalachian Mountain Club</td>\n",
       "      <td>AMC</td>\n",
       "    </tr>\n",
       "    <tr>\n",
       "      <th>7.0</th>\n",
       "      <td>1/2/2016 0:00</td>\n",
       "      <td>Brother Blood</td>\n",
       "      <td>https://www.trailjournals.com//journal/entry/5...</td>\n",
       "      <td>It's 2016, and the past two weeks have been mo...</td>\n",
       "      <td>NaN</td>\n",
       "      <td>its 2016</td>\n",
       "      <td>0.0</td>\n",
       "      <td>37.817700</td>\n",
       "      <td>-79.070600</td>\n",
       "      <td>NaN</td>\n",
       "      <td>20.0</td>\n",
       "      <td>1.0</td>\n",
       "      <td>2016.0</td>\n",
       "      <td>1.0</td>\n",
       "      <td>neutral</td>\n",
       "      <td>[{'label': 'anger', 'score': 0.006532554049044...</td>\n",
       "      <td>VA</td>\n",
       "      <td>Tidewater Appalachian Trail Club</td>\n",
       "      <td>TATC</td>\n",
       "    </tr>\n",
       "    <tr>\n",
       "      <th>10.0</th>\n",
       "      <td>1/3/2016 0:00</td>\n",
       "      <td>Hestia</td>\n",
       "      <td>https://www.trailjournals.com//journal/entry/5...</td>\n",
       "      <td>Wow. Yesterday was crazy! I started my period ...</td>\n",
       "      <td>Blood Mtn Shelter\\n</td>\n",
       "      <td>mountain crossings hostel</td>\n",
       "      <td>1.5</td>\n",
       "      <td>36.809400</td>\n",
       "      <td>-81.422600</td>\n",
       "      <td>NaN</td>\n",
       "      <td>60.0</td>\n",
       "      <td>1.0</td>\n",
       "      <td>2016.0</td>\n",
       "      <td>1.0</td>\n",
       "      <td>sadness</td>\n",
       "      <td>NaN</td>\n",
       "      <td>VA</td>\n",
       "      <td>Piedmont Appalachian Trail Hikers</td>\n",
       "      <td>PATH</td>\n",
       "    </tr>\n",
       "    <tr>\n",
       "      <th>11.0</th>\n",
       "      <td>1/3/2016 0:00</td>\n",
       "      <td>SIMPLE MAN</td>\n",
       "      <td>https://www.trailjournals.com//journal/entry/5...</td>\n",
       "      <td>Hi,my name is Billy,trail name \"SIMPLE MAN\".I ...</td>\n",
       "      <td>NaN</td>\n",
       "      <td>maine</td>\n",
       "      <td>0.0</td>\n",
       "      <td>40.839400</td>\n",
       "      <td>-75.359800</td>\n",
       "      <td>NaN</td>\n",
       "      <td>0.0</td>\n",
       "      <td>17.0</td>\n",
       "      <td>2016.0</td>\n",
       "      <td>1.0</td>\n",
       "      <td>sadness</td>\n",
       "      <td>[{'label': 'anger', 'score': 0.002191700274124...</td>\n",
       "      <td>PA</td>\n",
       "      <td>AMC Delaware Valley Chapter</td>\n",
       "      <td>AMC-DV</td>\n",
       "    </tr>\n",
       "    <tr>\n",
       "      <th>...</th>\n",
       "      <td>...</td>\n",
       "      <td>...</td>\n",
       "      <td>...</td>\n",
       "      <td>...</td>\n",
       "      <td>...</td>\n",
       "      <td>...</td>\n",
       "      <td>...</td>\n",
       "      <td>...</td>\n",
       "      <td>...</td>\n",
       "      <td>...</td>\n",
       "      <td>...</td>\n",
       "      <td>...</td>\n",
       "      <td>...</td>\n",
       "      <td>...</td>\n",
       "      <td>...</td>\n",
       "      <td>...</td>\n",
       "      <td>...</td>\n",
       "      <td>...</td>\n",
       "      <td>...</td>\n",
       "    </tr>\n",
       "    <tr>\n",
       "      <th>33192.0</th>\n",
       "      <td>10/12/2023 0:00</td>\n",
       "      <td>Flippertree for Autism</td>\n",
       "      <td>https://www.trailjournals.com//journal/entry/4...</td>\n",
       "      <td>Our 2014 goal of getting to Swatara Gap is com...</td>\n",
       "      <td>Route 183\\n</td>\n",
       "      <td>rt 501</td>\n",
       "      <td>9.0</td>\n",
       "      <td>40.512510</td>\n",
       "      <td>-76.346900</td>\n",
       "      <td>NaN</td>\n",
       "      <td>1.0</td>\n",
       "      <td>1.0</td>\n",
       "      <td>2023.0</td>\n",
       "      <td>10.0</td>\n",
       "      <td>neutral</td>\n",
       "      <td>[{'label': 'anger', 'score': 0.012704795226454...</td>\n",
       "      <td>PA</td>\n",
       "      <td>Blue Mountain Eagle Climbing Club</td>\n",
       "      <td>BMECC</td>\n",
       "    </tr>\n",
       "    <tr>\n",
       "      <th>33212.0</th>\n",
       "      <td>11/9/2023 0:00</td>\n",
       "      <td>Flippertree for Autism</td>\n",
       "      <td>https://www.trailjournals.com//journal/entry/6...</td>\n",
       "      <td>Nick had a rough night in hotel.  I guess he w...</td>\n",
       "      <td>Neighbor Mountain Parking\\n</td>\n",
       "      <td>hogback</td>\n",
       "      <td>13.0</td>\n",
       "      <td>35.963950</td>\n",
       "      <td>-82.587200</td>\n",
       "      <td>NaN</td>\n",
       "      <td>1.0</td>\n",
       "      <td>1.0</td>\n",
       "      <td>2023.0</td>\n",
       "      <td>11.0</td>\n",
       "      <td>fear</td>\n",
       "      <td>[{'label': 'anger', 'score': 0.009218733757734...</td>\n",
       "      <td>NC</td>\n",
       "      <td>Carolina Mountain Club</td>\n",
       "      <td>CMC</td>\n",
       "    </tr>\n",
       "    <tr>\n",
       "      <th>33224.0</th>\n",
       "      <td>12/5/2023 0:00</td>\n",
       "      <td>Flippertree for Autism</td>\n",
       "      <td>https://www.trailjournals.com//journal/entry/5...</td>\n",
       "      <td>It was Tyler's Birthday and he wanted money to...</td>\n",
       "      <td>Route 225 Pedestrian Bridge Parking Lot\\n</td>\n",
       "      <td>clarks ferry bridge</td>\n",
       "      <td>6.7</td>\n",
       "      <td>40.392220</td>\n",
       "      <td>-76.994000</td>\n",
       "      <td>NaN</td>\n",
       "      <td>1.0</td>\n",
       "      <td>1.0</td>\n",
       "      <td>2023.0</td>\n",
       "      <td>12.0</td>\n",
       "      <td>neutral</td>\n",
       "      <td>[{'label': 'anger', 'score': 0.014029124751687...</td>\n",
       "      <td>PA</td>\n",
       "      <td>NaN</td>\n",
       "      <td>NaN</td>\n",
       "    </tr>\n",
       "    <tr>\n",
       "      <th>33233.0</th>\n",
       "      <td>12/14/2023 0:00</td>\n",
       "      <td>NARSIL aka Father Time</td>\n",
       "      <td>https://www.trailjournals.com//journal/entry/5...</td>\n",
       "      <td>I have done several practice hikes including m...</td>\n",
       "      <td>NaN</td>\n",
       "      <td>view entry</td>\n",
       "      <td>0.0</td>\n",
       "      <td>34.712400</td>\n",
       "      <td>-83.834400</td>\n",
       "      <td>NaN</td>\n",
       "      <td>1.0</td>\n",
       "      <td>236.0</td>\n",
       "      <td>2023.0</td>\n",
       "      <td>12.0</td>\n",
       "      <td>neutral</td>\n",
       "      <td>[{'label': 'anger', 'score': 0.005320651456713...</td>\n",
       "      <td>GA</td>\n",
       "      <td>Georgia Appalachian Trail Club</td>\n",
       "      <td>GATC</td>\n",
       "    </tr>\n",
       "    <tr>\n",
       "      <th>33253.0</th>\n",
       "      <td>12/30/2023 0:00</td>\n",
       "      <td>Flippertree for Autism</td>\n",
       "      <td>https://www.trailjournals.com//journal/entry/6...</td>\n",
       "      <td>The mild winter has allowed us to pretty much ...</td>\n",
       "      <td>Bearwallow Gap\\n</td>\n",
       "      <td>cove mountain shelter</td>\n",
       "      <td>8.6</td>\n",
       "      <td>40.363460</td>\n",
       "      <td>-77.067800</td>\n",
       "      <td>NaN</td>\n",
       "      <td>1.0</td>\n",
       "      <td>2.0</td>\n",
       "      <td>2023.0</td>\n",
       "      <td>12.0</td>\n",
       "      <td>joy</td>\n",
       "      <td>[{'label': 'anger', 'score': 0.010889950208365...</td>\n",
       "      <td>PA</td>\n",
       "      <td>Mountain Club of Maryland</td>\n",
       "      <td>MCM</td>\n",
       "    </tr>\n",
       "  </tbody>\n",
       "</table>\n",
       "<p>15489 rows × 19 columns</p>\n",
       "</div>"
      ],
      "text/plain": [
       "                       date        Hiker trail name  \\\n",
       "Unnamed: 0                                            \n",
       "5.0           1/1/2016 0:00                  Hestia   \n",
       "6.0           1/1/2016 0:00       Brighty and Wreck   \n",
       "7.0           1/2/2016 0:00           Brother Blood   \n",
       "10.0          1/3/2016 0:00                  Hestia   \n",
       "11.0          1/3/2016 0:00              SIMPLE MAN   \n",
       "...                     ...                     ...   \n",
       "33192.0     10/12/2023 0:00  Flippertree for Autism   \n",
       "33212.0      11/9/2023 0:00  Flippertree for Autism   \n",
       "33224.0      12/5/2023 0:00  Flippertree for Autism   \n",
       "33233.0     12/14/2023 0:00  NARSIL aka Father Time   \n",
       "33253.0     12/30/2023 0:00  Flippertree for Autism   \n",
       "\n",
       "                                           Hiker Journal Link  \\\n",
       "Unnamed: 0                                                      \n",
       "5.0         https://www.trailjournals.com//journal/entry/5...   \n",
       "6.0         https://www.trailjournals.com//journal/entry/5...   \n",
       "7.0         https://www.trailjournals.com//journal/entry/5...   \n",
       "10.0        https://www.trailjournals.com//journal/entry/5...   \n",
       "11.0        https://www.trailjournals.com//journal/entry/5...   \n",
       "...                                                       ...   \n",
       "33192.0     https://www.trailjournals.com//journal/entry/4...   \n",
       "33212.0     https://www.trailjournals.com//journal/entry/6...   \n",
       "33224.0     https://www.trailjournals.com//journal/entry/5...   \n",
       "33233.0     https://www.trailjournals.com//journal/entry/5...   \n",
       "33253.0     https://www.trailjournals.com//journal/entry/6...   \n",
       "\n",
       "                                                Journal Story  \\\n",
       "Unnamed: 0                                                      \n",
       "5.0         Woke up to 32F. Annie made coffee and we met P...   \n",
       "6.0         Happy New Year!!! Our next to last section of ...   \n",
       "7.0         It's 2016, and the past two weeks have been mo...   \n",
       "10.0        Wow. Yesterday was crazy! I started my period ...   \n",
       "11.0        Hi,my name is Billy,trail name \"SIMPLE MAN\".I ...   \n",
       "...                                                       ...   \n",
       "33192.0     Our 2014 goal of getting to Swatara Gap is com...   \n",
       "33212.0     Nick had a rough night in hotel.  I guess he w...   \n",
       "33224.0     It was Tyler's Birthday and he wanted money to...   \n",
       "33233.0     I have done several practice hikes including m...   \n",
       "33253.0     The mild winter has allowed us to pretty much ...   \n",
       "\n",
       "                                       Start location  \\\n",
       "Unnamed: 0                                              \n",
       "5.0                               Hawk Mtn. Shelter\\n   \n",
       "6.0                                       Ashby Gap\\n   \n",
       "7.0                                               NaN   \n",
       "10.0                              Blood Mtn Shelter\\n   \n",
       "11.0                                              NaN   \n",
       "...                                               ...   \n",
       "33192.0                                   Route 183\\n   \n",
       "33212.0                   Neighbor Mountain Parking\\n   \n",
       "33224.0     Route 225 Pedestrian Bridge Parking Lot\\n   \n",
       "33233.0                                           NaN   \n",
       "33253.0                              Bearwallow Gap\\n   \n",
       "\n",
       "                          Destination  Today Miles   Latitude  Longitude  \\\n",
       "Unnamed: 0                                                                 \n",
       "5.0                  gooch mt shelter          7.3  34.655694 -84.049957   \n",
       "6.0                       trico tower          7.2  44.525200 -70.980900   \n",
       "7.0                          its 2016          0.0  37.817700 -79.070600   \n",
       "10.0        mountain crossings hostel          1.5  36.809400 -81.422600   \n",
       "11.0                            maine          0.0  40.839400 -75.359800   \n",
       "...                               ...          ...        ...        ...   \n",
       "33192.0                        rt 501          9.0  40.512510 -76.346900   \n",
       "33212.0                       hogback         13.0  35.963950 -82.587200   \n",
       "33224.0           clarks ferry bridge          6.7  40.392220 -76.994000   \n",
       "33233.0                    view entry          0.0  34.712400 -83.834400   \n",
       "33253.0         cove mountain shelter          8.6  40.363460 -77.067800   \n",
       "\n",
       "              State  Total Shelters  Occurrence    year  month    label  \\\n",
       "Unnamed: 0                                                                \n",
       "5.0         Georgia            60.0         4.0  2016.0    1.0  neutral   \n",
       "6.0             NaN            29.0         1.0  2016.0    1.0      joy   \n",
       "7.0             NaN            20.0         1.0  2016.0    1.0  neutral   \n",
       "10.0            NaN            60.0         1.0  2016.0    1.0  sadness   \n",
       "11.0            NaN             0.0        17.0  2016.0    1.0  sadness   \n",
       "...             ...             ...         ...     ...    ...      ...   \n",
       "33192.0         NaN             1.0         1.0  2023.0   10.0  neutral   \n",
       "33212.0         NaN             1.0         1.0  2023.0   11.0     fear   \n",
       "33224.0         NaN             1.0         1.0  2023.0   12.0  neutral   \n",
       "33233.0         NaN             1.0       236.0  2023.0   12.0  neutral   \n",
       "33253.0         NaN             1.0         2.0  2023.0   12.0      joy   \n",
       "\n",
       "                                               Emotion_scores state  \\\n",
       "Unnamed: 0                                                            \n",
       "5.0         [{'label': 'anger', 'score': 0.004779126960784...    GA   \n",
       "6.0         [{'label': 'anger', 'score': 0.002314480487257...    ME   \n",
       "7.0         [{'label': 'anger', 'score': 0.006532554049044...    VA   \n",
       "10.0                                                      NaN    VA   \n",
       "11.0        [{'label': 'anger', 'score': 0.002191700274124...    PA   \n",
       "...                                                       ...   ...   \n",
       "33192.0     [{'label': 'anger', 'score': 0.012704795226454...    PA   \n",
       "33212.0     [{'label': 'anger', 'score': 0.009218733757734...    NC   \n",
       "33224.0     [{'label': 'anger', 'score': 0.014029124751687...    PA   \n",
       "33233.0     [{'label': 'anger', 'score': 0.005320651456713...    GA   \n",
       "33253.0     [{'label': 'anger', 'score': 0.010889950208365...    PA   \n",
       "\n",
       "                                         club Acronym  \n",
       "Unnamed: 0                                             \n",
       "5.0            Georgia Appalachian Trail Club    GATC  \n",
       "6.0                 Appalachian Mountain Club     AMC  \n",
       "7.0          Tidewater Appalachian Trail Club    TATC  \n",
       "10.0        Piedmont Appalachian Trail Hikers    PATH  \n",
       "11.0              AMC Delaware Valley Chapter  AMC-DV  \n",
       "...                                       ...     ...  \n",
       "33192.0     Blue Mountain Eagle Climbing Club   BMECC  \n",
       "33212.0                Carolina Mountain Club     CMC  \n",
       "33224.0                                   NaN     NaN  \n",
       "33233.0        Georgia Appalachian Trail Club    GATC  \n",
       "33253.0             Mountain Club of Maryland     MCM  \n",
       "\n",
       "[15489 rows x 19 columns]"
      ]
     },
     "execution_count": 19,
     "metadata": {},
     "output_type": "execute_result"
    }
   ],
   "source": [
    "data"
   ]
  },
  {
   "cell_type": "code",
   "execution_count": 20,
   "metadata": {},
   "outputs": [
    {
     "data": {
      "text/html": [
       "\n",
       "        <iframe\n",
       "            width=\"100%\"\n",
       "            height=\"650\"\n",
       "            src=\"http://127.0.0.1:8050/\"\n",
       "            frameborder=\"0\"\n",
       "            allowfullscreen\n",
       "            \n",
       "        ></iframe>\n",
       "        "
      ],
      "text/plain": [
       "<IPython.lib.display.IFrame at 0x2949ab450>"
      ]
     },
     "metadata": {},
     "output_type": "display_data"
    }
   ],
   "source": [
    "app = Dash(__name__)\n",
    "\n",
    "\n",
    "app.layout = html.Div([\n",
    "    html.H4('Emotion proportion over States'),\n",
    "\n",
    "    html.P(\"Select a Year:\"),\n",
    "    dcc.Slider(\n",
    "        id='year-slider',\n",
    "        min=2016,\n",
    "        max=2023,\n",
    "        value=2016,\n",
    "        marks={str(year): str(year) for year in range(2016, 2024)},\n",
    "        step=None\n",
    "    ),\n",
    "    html.P(\"Select a Month:\"),\n",
    "    dcc.Slider(\n",
    "        id='month-slider',\n",
    "        min=1,\n",
    "        max=12,\n",
    "        value=1,\n",
    "        marks={str(month): str(month) for month in range(1, 13)},\n",
    "        step=None\n",
    "    ),\n",
    "    html.P(\"Whole Year:\"),\n",
    "    dcc.Checklist(\n",
    "        id='month-toggle',\n",
    "        options=[{'label': '', 'value': 'ignore'}],\n",
    "        value=[]\n",
    "    ),\n",
    "    html.P(\"All Time:\"),\n",
    "    dcc.Checklist(\n",
    "        id='all-toggle',\n",
    "        options=[{'label': '', 'value': 'ignore'}],\n",
    "        value=[]\n",
    "    ),\n",
    "    dcc.Graph(id=\"graph\"),\n",
    "])\n",
    "\n",
    "@app.callback(\n",
    "    Output(\"graph\", \"figure\"), \n",
    "    [Input(\"year-slider\", \"value\"),\n",
    "     Input(\"month-slider\", \"value\"),\n",
    "     Input(\"month-toggle\", \"value\"),\n",
    "     Input(\"all-toggle\", \"value\")]\n",
    ")\n",
    "def display_choropleth(year, month, month_toggle, all_toggle):\n",
    "    if 'ignore' in all_toggle:\n",
    "        df = data.groupby(['state', 'label']).size().unstack(fill_value=0)\n",
    "    else:\n",
    "        if 'ignore' in month_toggle:\n",
    "            df = data[(data['year'] == year)].groupby(['state', 'label']).size().unstack(fill_value=0)\n",
    "        else:\n",
    "            df = data[(data['year'] == year) & (data['month'] == month)].groupby(['state', 'label']).size().unstack(fill_value=0)\n",
    "    #df = data.groupby(['state', 'label']).size().unstack(fill_value=0)\n",
    "    row_sums = df.sum(axis=1)\n",
    "    proportions_df = df.div(row_sums, axis=0)\n",
    "    proportions_df = proportions_df.apply(lambda x: round(x*100, 2))\n",
    "    fig = px.bar(proportions_df,\n",
    "                barmode='stack',\n",
    "                labels={'index': 'X-axis Labels', 'value': 'Proportion distribution in percentage(%)'},\n",
    "                title='Stacked Bar Plot')\n",
    "    #fig.update_geos(fitbounds=\"locations\", visible=False)\n",
    "    fig.update_layout(margin={\"r\":0,\"t\":0,\"l\":0,\"b\":0})\n",
    "\n",
    "    return fig\n",
    "app.run_server(debug=True)"
   ]
  },
  {
   "cell_type": "markdown",
   "metadata": {},
   "source": [
    "## Bar plot for Propoertion 2"
   ]
  },
  {
   "cell_type": "code",
   "execution_count": 21,
   "metadata": {},
   "outputs": [
    {
     "data": {
      "text/html": [
       "\n",
       "        <iframe\n",
       "            width=\"100%\"\n",
       "            height=\"650\"\n",
       "            src=\"http://127.0.0.1:8050/\"\n",
       "            frameborder=\"0\"\n",
       "            allowfullscreen\n",
       "            \n",
       "        ></iframe>\n",
       "        "
      ],
      "text/plain": [
       "<IPython.lib.display.IFrame at 0x2949d0e10>"
      ]
     },
     "metadata": {},
     "output_type": "display_data"
    }
   ],
   "source": [
    "app = Dash(__name__)\n",
    "\n",
    "\n",
    "app.layout = html.Div([\n",
    "    html.H4('Emotion proportion over clubs'),\n",
    "\n",
    "    html.P(\"Select a Year:\"),\n",
    "    dcc.Slider(\n",
    "        id='year-slider',\n",
    "        min=2016,\n",
    "        max=2023,\n",
    "        value=2016,\n",
    "        marks={str(year): str(year) for year in range(2016, 2024)},\n",
    "        step=None\n",
    "    ),\n",
    "    html.P(\"Select a Month:\"),\n",
    "    dcc.Slider(\n",
    "        id='month-slider',\n",
    "        min=1,\n",
    "        max=12,\n",
    "        value=1,\n",
    "        marks={str(month): str(month) for month in range(1, 13)},\n",
    "        step=None\n",
    "    ),\n",
    "    html.P(\"Whole Year:\"),\n",
    "    dcc.Checklist(\n",
    "        id='month-toggle',\n",
    "        options=[{'label': '', 'value': 'ignore'}],\n",
    "        value=[]\n",
    "    ),\n",
    "    html.P(\"All Time:\"),\n",
    "    dcc.Checklist(\n",
    "        id='all-toggle',\n",
    "        options=[{'label': '', 'value': 'ignore'}],\n",
    "        value=[]\n",
    "    ),\n",
    "    dcc.Graph(id=\"graph\"),\n",
    "])\n",
    "\n",
    "@app.callback(\n",
    "    Output(\"graph\", \"figure\"), \n",
    "    [Input(\"year-slider\", \"value\"),\n",
    "     Input(\"month-slider\", \"value\"),\n",
    "     Input(\"month-toggle\", \"value\"),\n",
    "     Input(\"all-toggle\", \"value\")]\n",
    ")\n",
    "def display_choropleth(year, month, month_toggle, all_toggle):\n",
    "    if 'ignore' in all_toggle:\n",
    "        df = data.groupby(['club', 'label']).size().unstack(fill_value=0)\n",
    "    else:\n",
    "        if 'ignore' in month_toggle:\n",
    "            df = data[(data['year'] == year)].groupby(['club', 'label']).size().unstack(fill_value=0)\n",
    "        else:\n",
    "            df = data[(data['year'] == year) & (data['month'] == month)].groupby(['club', 'label']).size().unstack(fill_value=0)\n",
    "    #df = data.groupby(['state', 'label']).size().unstack(fill_value=0)\n",
    "    row_sums = df.sum(axis=1)\n",
    "    proportions_df = df.div(row_sums, axis=0)\n",
    "    proportions_df = proportions_df.apply(lambda x: round(x*100, 2))\n",
    "    fig = px.bar(proportions_df,\n",
    "                barmode='stack',\n",
    "                labels={'index': 'X-axis Labels', 'value': 'Proportion distribution in percentage(%)'},\n",
    "                title='Stacked Bar Plot')\n",
    "    #fig.update_geos(fitbounds=\"locations\", visible=False)\n",
    "    fig.update_layout(margin={\"r\":0,\"t\":0,\"l\":0,\"b\":0})\n",
    "\n",
    "    return fig\n",
    "\n",
    "app.run_server(debug=True)"
   ]
  },
  {
   "cell_type": "markdown",
   "metadata": {},
   "source": [
    "## Integration"
   ]
  },
  {
   "cell_type": "code",
   "execution_count": 33,
   "metadata": {},
   "outputs": [
    {
     "data": {
      "text/html": [
       "\n",
       "        <iframe\n",
       "            width=\"100%\"\n",
       "            height=\"650\"\n",
       "            src=\"http://127.0.0.1:8050/\"\n",
       "            frameborder=\"0\"\n",
       "            allowfullscreen\n",
       "            \n",
       "        ></iframe>\n",
       "        "
      ],
      "text/plain": [
       "<IPython.lib.display.IFrame at 0x2ab6b3bd0>"
      ]
     },
     "metadata": {},
     "output_type": "display_data"
    }
   ],
   "source": [
    "app = Dash(__name__, suppress_callback_exceptions=True)\n",
    "\n",
    "########################################################################################################################################################################################################################################################################################\n",
    "# 1\n",
    "tab1_layout = html.Div([\n",
    "    html.H4('Emotion distribution over States'),\n",
    "    html.P(\"Select an Emotion:\"),\n",
    "    dcc.RadioItems(\n",
    "        id='emotion', \n",
    "        options=[{'label': emotion, 'value': emotion} for emotion in ['neutral', 'joy', 'sadness', 'surprise', 'fear', 'anger', 'disgust']],\n",
    "        value=\"neutral\",\n",
    "        inline=True\n",
    "    ),\n",
    "    html.P(\"Select a Year:\"),\n",
    "    dcc.Slider(\n",
    "        id='year-slider',\n",
    "        min=2016,\n",
    "        max=2023,\n",
    "        value=2016,\n",
    "        marks={str(year): str(year) for year in range(2016, 2024)},\n",
    "        step=None\n",
    "    ),\n",
    "    html.P(\"Select a Month:\"),\n",
    "    dcc.Slider(\n",
    "        id='month-slider',\n",
    "        min=1,\n",
    "        max=12,\n",
    "        value=1,\n",
    "        marks={str(month): str(month) for month in range(1, 13)},\n",
    "        step=None\n",
    "    ),\n",
    "    html.P(\"Whole Year:\"),\n",
    "    dcc.Checklist(\n",
    "        id='month-toggle',\n",
    "        options=[{'label': '', 'value': 'ignore'}],\n",
    "        value=[]\n",
    "    ),\n",
    "    html.P(\"All Time:\"),\n",
    "    dcc.Checklist(\n",
    "        id='all-toggle',\n",
    "        options=[{'label': '', 'value': 'ignore'}],\n",
    "        value=[]\n",
    "    ),\n",
    "    dcc.Graph(id=\"graph1\"),\n",
    "])\n",
    "\n",
    "@app.callback(\n",
    "    Output(\"graph1\", \"figure\"), \n",
    "    [Input(\"emotion\", \"value\"),\n",
    "     Input(\"year-slider\", \"value\"),\n",
    "     Input(\"month-slider\", \"value\"),\n",
    "     Input(\"month-toggle\", \"value\"),\n",
    "     Input(\"all-toggle\", \"value\")]\n",
    ")\n",
    "def callback1(emotion, year, month, month_toggle, all_toggle):\n",
    "    if 'ignore' in all_toggle:\n",
    "        df = data[data['label'] == emotion]['state'].value_counts().reset_index().sort_values('state')\n",
    "        b = data['state'].value_counts().reindex(df.state.unique(), fill_value=0).sort_index().reset_index(drop=True)\n",
    "    else:\n",
    "        if 'ignore' in month_toggle:\n",
    "            df = data[(data['label'] == emotion) & (data['year'] == year)]['state'].value_counts().reset_index().sort_values('state')\n",
    "            b = data[(data['year'] == year)]['state'].value_counts().reindex(df.state.unique(), fill_value=0).sort_index().reset_index(drop=True)\n",
    "        else:\n",
    "            df = data[(data['label'] == emotion) & (data['year'] == year) & (data['month'] == month)]['state'].value_counts().reset_index().sort_values('state')\n",
    "            b = data[(data['year'] == year) & (data['month'] == month)]['state'].value_counts().reindex(df.state.unique(), fill_value=0).sort_index().reset_index(drop=True)\n",
    "    a = df['count'].reset_index(drop=True)\n",
    "    df['proportion'] = round(a/b, 4)*100\n",
    "    \n",
    "    \n",
    "    fig = px.choropleth(\n",
    "        df,\n",
    "        locationmode=\"USA-states\",\n",
    "        locations='state',\n",
    "        color='proportion',\n",
    "        scope=\"usa\",\n",
    "        color_continuous_scale=\"OrRd\",\n",
    "        #range_color=(0,100),\n",
    "        title='Emotion distribution over States'\n",
    "    )\n",
    "    fig.update_geos(fitbounds=\"locations\", visible=False)\n",
    "    fig.update_layout(margin={\"r\":0,\"t\":0,\"l\":0,\"b\":0})\n",
    "\n",
    "    return fig\n",
    "\n",
    "\n",
    "########################################################################################################################################################################################################################################################################################\n",
    "# 2\n",
    "tab2_layout = html.Div([\n",
    "    html.H4('Emotion distribution over Clubs'),\n",
    "    html.P(\"Select an Emotion:\"),\n",
    "    dcc.RadioItems(\n",
    "        id='emotion', \n",
    "        options=[{'label': emotion, 'value': emotion} for emotion in ['neutral', 'joy', 'sadness', 'surprise', 'fear', 'anger', 'disgust']],\n",
    "        value=\"neutral\",\n",
    "        inline=True\n",
    "    ),\n",
    "    html.P(\"Select a Year:\"),\n",
    "    dcc.Slider(\n",
    "        id='year-slider',\n",
    "        min=2016,\n",
    "        max=2023,\n",
    "        value=2016,\n",
    "        marks={str(year): str(year) for year in range(2016, 2024)},\n",
    "        step=None\n",
    "    ),\n",
    "    html.P(\"Select a Month:\"),\n",
    "    dcc.Slider(\n",
    "        id='month-slider',\n",
    "        min=1,\n",
    "        max=12,\n",
    "        value=1,\n",
    "        marks={str(month): str(month) for month in range(1, 13)},\n",
    "        step=None\n",
    "    ),\n",
    "    html.P(\"Whole Year:\"),\n",
    "    dcc.Checklist(\n",
    "        id='month-toggle',\n",
    "        options=[{'label': '', 'value': 'ignore'}],\n",
    "        value=[]\n",
    "    ),\n",
    "    dcc.Graph(id=\"graph2\"),\n",
    "])\n",
    "\n",
    "@app.callback(\n",
    "    Output(\"graph2\", \"figure\"), \n",
    "    [Input(\"emotion\", \"value\"),\n",
    "     Input(\"year-slider\", \"value\"),\n",
    "     Input(\"month-slider\", \"value\"),\n",
    "     Input(\"month-toggle\", \"value\")]\n",
    ")\n",
    "def callback2(emotion, year, month, month_toggle):\n",
    "    if 'ignore' in month_toggle:\n",
    "        df = data[(data['label'] == emotion) & (data['year'] == year)]\n",
    "    else:\n",
    "        df = data[(data['label'] == emotion) & (data['year'] == year) & (data['month'] == month)]\n",
    "\n",
    "    # Use seaborn to generate a palette of 24 colors\n",
    "    colors = sns.color_palette(\"husl\", 24).as_hex()\n",
    "\n",
    "    # Create a color map for each unique club\n",
    "    clubs = df['club'].unique()\n",
    "    if len(clubs) > len(colors):\n",
    "        raise ValueError(\"The number of unique clubs exceeds available colors.\")\n",
    "\n",
    "    color_map = dict(zip(clubs, colors))\n",
    "    \n",
    "    # Create an empty figure\n",
    "    fig = go.Figure()\n",
    "\n",
    "    # Add a trace for each club\n",
    "    for club in clubs:\n",
    "        subset = df[df['club'] == club]\n",
    "        fig.add_trace(go.Scattergeo(\n",
    "            lon = subset['Longitude'],\n",
    "            lat = subset['Latitude'],\n",
    "            text = subset['label'],\n",
    "            mode = 'markers',\n",
    "            marker = dict(\n",
    "                color = color_map[club],\n",
    "                size = 8,\n",
    "                opacity = 0.3\n",
    "            ),\n",
    "            name = club,\n",
    "            showlegend=True\n",
    "        ))\n",
    "\n",
    "    fig.update_layout(\n",
    "            #title = 'Emotion distribution over Clubs',\n",
    "            geo_scope='usa',\n",
    "        )\n",
    "\n",
    "    return fig\n",
    "\n",
    "########################################################################################################################################################################################################################################################################################\n",
    "# 3\n",
    "tab3_layout = html.Div([\n",
    "    html.H4('Emotion proportion over States'),\n",
    "\n",
    "    html.P(\"Select a Year:\"),\n",
    "    dcc.Slider(\n",
    "        id='year-slider',\n",
    "        min=2016,\n",
    "        max=2023,\n",
    "        value=2016,\n",
    "        marks={str(year): str(year) for year in range(2016, 2024)},\n",
    "        step=None\n",
    "    ),\n",
    "    html.P(\"Select a Month:\"),\n",
    "    dcc.Slider(\n",
    "        id='month-slider',\n",
    "        min=1,\n",
    "        max=12,\n",
    "        value=1,\n",
    "        marks={str(month): str(month) for month in range(1, 13)},\n",
    "        step=None\n",
    "    ),\n",
    "    html.P(\"Whole Year:\"),\n",
    "    dcc.Checklist(\n",
    "        id='month-toggle',\n",
    "        options=[{'label': '', 'value': 'ignore'}],\n",
    "        value=[]\n",
    "    ),\n",
    "    html.P(\"All Time:\"),\n",
    "    dcc.Checklist(\n",
    "        id='all-toggle',\n",
    "        options=[{'label': '', 'value': 'ignore'}],\n",
    "        value=[]\n",
    "    ),\n",
    "    dcc.Graph(id=\"graph3\"),\n",
    "])\n",
    "\n",
    "@app.callback(\n",
    "    Output(\"graph3\", \"figure\"), \n",
    "    [Input(\"year-slider\", \"value\"),\n",
    "     Input(\"month-slider\", \"value\"),\n",
    "     Input(\"month-toggle\", \"value\"),\n",
    "     Input(\"all-toggle\", \"value\")]\n",
    ")\n",
    "def callback3(year, month, month_toggle, all_toggle):\n",
    "    if 'ignore' in all_toggle:\n",
    "        df = data.groupby(['state', 'label']).size().unstack(fill_value=0)\n",
    "    else:\n",
    "        if 'ignore' in month_toggle:\n",
    "            df = data[(data['year'] == year)].groupby(['state', 'label']).size().unstack(fill_value=0)\n",
    "        else:\n",
    "            df = data[(data['year'] == year) & (data['month'] == month)].groupby(['state', 'label']).size().unstack(fill_value=0)\n",
    "    #df = data.groupby(['state', 'label']).size().unstack(fill_value=0)\n",
    "    row_sums = df.sum(axis=1)\n",
    "    proportions_df = df.div(row_sums, axis=0)\n",
    "    proportions_df = proportions_df.apply(lambda x: round(x*100, 2))\n",
    "    order = ['TN', 'NC', 'GA', 'VA', 'MD', 'NJ', 'PA', 'NY', 'CT', 'MA', 'NH', 'VT', 'ME']\n",
    "    proportions_df = proportions_df.reindex(order)\n",
    "    fig = px.bar(proportions_df,\n",
    "                barmode='stack',\n",
    "                labels={'index': 'X-axis Labels', 'value': 'Proportion distribution in percentage(%)'},\n",
    "                title='Stacked Bar Plot')\n",
    "    #fig.update_geos(fitbounds=\"locations\", visible=False)\n",
    "    fig.update_layout(margin={\"r\":0,\"t\":0,\"l\":0,\"b\":0})\n",
    "\n",
    "    return fig\n",
    "########################################################################################################################################################################################################################################################################################\n",
    "# 4\n",
    "tab4_layout = html.Div([\n",
    "    html.H4('Emotion proportion over clubs'),\n",
    "\n",
    "    html.P(\"Select a Year:\"),\n",
    "    dcc.Slider(\n",
    "        id='year-slider',\n",
    "        min=2016,\n",
    "        max=2023,\n",
    "        value=2016,\n",
    "        marks={str(year): str(year) for year in range(2016, 2024)},\n",
    "        step=None\n",
    "    ),\n",
    "    html.P(\"Select a Month:\"),\n",
    "    dcc.Slider(\n",
    "        id='month-slider',\n",
    "        min=1,\n",
    "        max=12,\n",
    "        value=1,\n",
    "        marks={str(month): str(month) for month in range(1, 13)},\n",
    "        step=None\n",
    "    ),\n",
    "    html.P(\"Whole Year:\"),\n",
    "    dcc.Checklist(\n",
    "        id='month-toggle',\n",
    "        options=[{'label': '', 'value': 'ignore'}],\n",
    "        value=[]\n",
    "    ),\n",
    "    html.P(\"All Time:\"),\n",
    "    dcc.Checklist(\n",
    "        id='all-toggle',\n",
    "        options=[{'label': '', 'value': 'ignore'}],\n",
    "        value=[]\n",
    "    ),\n",
    "    dcc.Graph(id=\"graph4\"),\n",
    "])\n",
    "\n",
    "@app.callback(\n",
    "    Output(\"graph4\", \"figure\"), \n",
    "    [Input(\"year-slider\", \"value\"),\n",
    "     Input(\"month-slider\", \"value\"),\n",
    "     Input(\"month-toggle\", \"value\"),\n",
    "     Input(\"all-toggle\", \"value\")]\n",
    ")\n",
    "def callback4(year, month, month_toggle, all_toggle):\n",
    "    if 'ignore' in all_toggle:\n",
    "        df = data.groupby(['club', 'label']).size().unstack(fill_value=0)\n",
    "    else:\n",
    "        if 'ignore' in month_toggle:\n",
    "            df = data[(data['year'] == year)].groupby(['club', 'label']).size().unstack(fill_value=0)\n",
    "        else:\n",
    "            df = data[(data['year'] == year) & (data['month'] == month)].groupby(['club', 'label']).size().unstack(fill_value=0)\n",
    "    #df = data.groupby(['state', 'label']).size().unstack(fill_value=0)\n",
    "    row_sums = df.sum(axis=1)\n",
    "    proportions_df = df.div(row_sums, axis=0)\n",
    "    proportions_df = proportions_df.apply(lambda x: round(x*100, 2))\n",
    "    fig = px.bar(proportions_df,\n",
    "                barmode='stack',\n",
    "                labels={'index': 'X-axis Labels', 'value': 'Proportion distribution in percentage(%)'},\n",
    "                title='Stacked Bar Plot')\n",
    "    #fig.update_geos(fitbounds=\"locations\", visible=False)\n",
    "    fig.update_layout(margin={\"r\":0,\"t\":0,\"l\":0,\"b\":0})\n",
    "\n",
    "    return fig\n",
    "########################################################################################################################################################################################################################################################################################\n",
    "# Main Manu\n",
    "\n",
    "app.layout = html.Div([\n",
    "    dcc.Tabs(id='tabs', value='tab1', children=[\n",
    "        dcc.Tab(label='Emotion distribution by State', value='tab1'),\n",
    "        dcc.Tab(label='Emotion distribution by Club', value='tab2'),\n",
    "        dcc.Tab(label='Emotion proportion by State', value='tab3'),\n",
    "        dcc.Tab(label='Emotion proportion by Clubs', value='tab4')\n",
    "    ]),\n",
    "    html.Div(id='tabs-content')\n",
    "])\n",
    "\n",
    "@app.callback(Output('tabs-content', 'children'), [Input('tabs', 'value')])\n",
    "def render_content(tab):\n",
    "    if tab == 'tab1':\n",
    "        return tab1_layout\n",
    "    elif tab == 'tab2':\n",
    "        return tab2_layout\n",
    "    elif tab == 'tab3':\n",
    "        return tab3_layout\n",
    "    elif tab == 'tab4':\n",
    "        return tab4_layout\n",
    "\n",
    "app.run_server(debug=True)\n"
   ]
  },
  {
   "cell_type": "code",
   "execution_count": 26,
   "metadata": {},
   "outputs": [
    {
     "data": {
      "application/vnd.plotly.v1+json": {
       "config": {
        "plotlyServerURL": "https://plot.ly"
       },
       "data": [
        {
         "alignmentgroup": "True",
         "hovertemplate": "label=anger<br>state=%{x}<br>Proportion distribution in percentage(%)=%{y}<extra></extra>",
         "legendgroup": "anger",
         "marker": {
          "color": "#636efa",
          "pattern": {
           "shape": ""
          }
         },
         "name": "anger",
         "offsetgroup": "anger",
         "orientation": "v",
         "showlegend": true,
         "textposition": "auto",
         "type": "bar",
         "x": [
          "CT",
          "GA",
          "MA",
          "MD",
          "ME",
          "NC",
          "NH",
          "NJ",
          "NY",
          "PA",
          "TN",
          "VA",
          "VT"
         ],
         "xaxis": "x",
         "y": [
          0.33,
          0.33,
          0.59,
          0.87,
          0,
          0.51,
          0.81,
          0.48,
          0.37,
          0.6,
          0.53,
          0.37,
          0.76
         ],
         "yaxis": "y"
        },
        {
         "alignmentgroup": "True",
         "hovertemplate": "label=disgust<br>state=%{x}<br>Proportion distribution in percentage(%)=%{y}<extra></extra>",
         "legendgroup": "disgust",
         "marker": {
          "color": "#EF553B",
          "pattern": {
           "shape": ""
          }
         },
         "name": "disgust",
         "offsetgroup": "disgust",
         "orientation": "v",
         "showlegend": true,
         "textposition": "auto",
         "type": "bar",
         "x": [
          "CT",
          "GA",
          "MA",
          "MD",
          "ME",
          "NC",
          "NH",
          "NJ",
          "NY",
          "PA",
          "TN",
          "VA",
          "VT"
         ],
         "xaxis": "x",
         "y": [
          2.93,
          2.12,
          2.55,
          1.96,
          3.57,
          2.38,
          3.43,
          2.16,
          2.42,
          2.59,
          2.82,
          2.51,
          3.05
         ],
         "yaxis": "y"
        },
        {
         "alignmentgroup": "True",
         "hovertemplate": "label=fear<br>state=%{x}<br>Proportion distribution in percentage(%)=%{y}<extra></extra>",
         "legendgroup": "fear",
         "marker": {
          "color": "#00cc96",
          "pattern": {
           "shape": ""
          }
         },
         "name": "fear",
         "offsetgroup": "fear",
         "orientation": "v",
         "showlegend": true,
         "textposition": "auto",
         "type": "bar",
         "x": [
          "CT",
          "GA",
          "MA",
          "MD",
          "ME",
          "NC",
          "NH",
          "NJ",
          "NY",
          "PA",
          "TN",
          "VA",
          "VT"
         ],
         "xaxis": "x",
         "y": [
          6.19,
          8.61,
          7.45,
          8.06,
          17.86,
          9.61,
          10.71,
          8.65,
          8.75,
          10.17,
          8.99,
          9.39,
          8.78
         ],
         "yaxis": "y"
        },
        {
         "alignmentgroup": "True",
         "hovertemplate": "label=joy<br>state=%{x}<br>Proportion distribution in percentage(%)=%{y}<extra></extra>",
         "legendgroup": "joy",
         "marker": {
          "color": "#ab63fa",
          "pattern": {
           "shape": ""
          }
         },
         "name": "joy",
         "offsetgroup": "joy",
         "orientation": "v",
         "showlegend": true,
         "textposition": "auto",
         "type": "bar",
         "x": [
          "CT",
          "GA",
          "MA",
          "MD",
          "ME",
          "NC",
          "NH",
          "NJ",
          "NY",
          "PA",
          "TN",
          "VA",
          "VT"
         ],
         "xaxis": "x",
         "y": [
          29.97,
          28.43,
          30.39,
          26.8,
          21.43,
          28.17,
          29.49,
          29.81,
          27.56,
          27.57,
          27.73,
          27.79,
          29.2
         ],
         "yaxis": "y"
        },
        {
         "alignmentgroup": "True",
         "hovertemplate": "label=neutral<br>state=%{x}<br>Proportion distribution in percentage(%)=%{y}<extra></extra>",
         "legendgroup": "neutral",
         "marker": {
          "color": "#FFA15A",
          "pattern": {
           "shape": ""
          }
         },
         "name": "neutral",
         "offsetgroup": "neutral",
         "orientation": "v",
         "showlegend": true,
         "textposition": "auto",
         "type": "bar",
         "x": [
          "CT",
          "GA",
          "MA",
          "MD",
          "ME",
          "NC",
          "NH",
          "NJ",
          "NY",
          "PA",
          "TN",
          "VA",
          "VT"
         ],
         "xaxis": "x",
         "y": [
          46.25,
          44.27,
          44.31,
          46.19,
          35.71,
          41.45,
          34.95,
          45.19,
          43.58,
          41.86,
          41.66,
          42.87,
          43.61
         ],
         "yaxis": "y"
        },
        {
         "alignmentgroup": "True",
         "hovertemplate": "label=sadness<br>state=%{x}<br>Proportion distribution in percentage(%)=%{y}<extra></extra>",
         "legendgroup": "sadness",
         "marker": {
          "color": "#19d3f3",
          "pattern": {
           "shape": ""
          }
         },
         "name": "sadness",
         "offsetgroup": "sadness",
         "orientation": "v",
         "showlegend": true,
         "textposition": "auto",
         "type": "bar",
         "x": [
          "CT",
          "GA",
          "MA",
          "MD",
          "ME",
          "NC",
          "NH",
          "NJ",
          "NY",
          "PA",
          "TN",
          "VA",
          "VT"
         ],
         "xaxis": "x",
         "y": [
          6.84,
          9.08,
          7.25,
          8.5,
          6.25,
          9.2,
          10.1,
          6.73,
          9.68,
          8.9,
          10.05,
          9.16,
          8.4
         ],
         "yaxis": "y"
        },
        {
         "alignmentgroup": "True",
         "hovertemplate": "label=surprise<br>state=%{x}<br>Proportion distribution in percentage(%)=%{y}<extra></extra>",
         "legendgroup": "surprise",
         "marker": {
          "color": "#FF6692",
          "pattern": {
           "shape": ""
          }
         },
         "name": "surprise",
         "offsetgroup": "surprise",
         "orientation": "v",
         "showlegend": true,
         "textposition": "auto",
         "type": "bar",
         "x": [
          "CT",
          "GA",
          "MA",
          "MD",
          "ME",
          "NC",
          "NH",
          "NJ",
          "NY",
          "PA",
          "TN",
          "VA",
          "VT"
         ],
         "xaxis": "x",
         "y": [
          7.49,
          7.16,
          7.45,
          7.63,
          15.18,
          8.68,
          10.51,
          6.97,
          7.64,
          8.31,
          8.23,
          7.91,
          6.2
         ],
         "yaxis": "y"
        }
       ],
       "layout": {
        "barmode": "stack",
        "legend": {
         "title": {
          "text": "label"
         },
         "tracegroupgap": 0
        },
        "margin": {
         "b": 0,
         "l": 0,
         "r": 0,
         "t": 0
        },
        "template": {
         "data": {
          "bar": [
           {
            "error_x": {
             "color": "#2a3f5f"
            },
            "error_y": {
             "color": "#2a3f5f"
            },
            "marker": {
             "line": {
              "color": "#E5ECF6",
              "width": 0.5
             },
             "pattern": {
              "fillmode": "overlay",
              "size": 10,
              "solidity": 0.2
             }
            },
            "type": "bar"
           }
          ],
          "barpolar": [
           {
            "marker": {
             "line": {
              "color": "#E5ECF6",
              "width": 0.5
             },
             "pattern": {
              "fillmode": "overlay",
              "size": 10,
              "solidity": 0.2
             }
            },
            "type": "barpolar"
           }
          ],
          "carpet": [
           {
            "aaxis": {
             "endlinecolor": "#2a3f5f",
             "gridcolor": "white",
             "linecolor": "white",
             "minorgridcolor": "white",
             "startlinecolor": "#2a3f5f"
            },
            "baxis": {
             "endlinecolor": "#2a3f5f",
             "gridcolor": "white",
             "linecolor": "white",
             "minorgridcolor": "white",
             "startlinecolor": "#2a3f5f"
            },
            "type": "carpet"
           }
          ],
          "choropleth": [
           {
            "colorbar": {
             "outlinewidth": 0,
             "ticks": ""
            },
            "type": "choropleth"
           }
          ],
          "contour": [
           {
            "colorbar": {
             "outlinewidth": 0,
             "ticks": ""
            },
            "colorscale": [
             [
              0,
              "#0d0887"
             ],
             [
              0.1111111111111111,
              "#46039f"
             ],
             [
              0.2222222222222222,
              "#7201a8"
             ],
             [
              0.3333333333333333,
              "#9c179e"
             ],
             [
              0.4444444444444444,
              "#bd3786"
             ],
             [
              0.5555555555555556,
              "#d8576b"
             ],
             [
              0.6666666666666666,
              "#ed7953"
             ],
             [
              0.7777777777777778,
              "#fb9f3a"
             ],
             [
              0.8888888888888888,
              "#fdca26"
             ],
             [
              1,
              "#f0f921"
             ]
            ],
            "type": "contour"
           }
          ],
          "contourcarpet": [
           {
            "colorbar": {
             "outlinewidth": 0,
             "ticks": ""
            },
            "type": "contourcarpet"
           }
          ],
          "heatmap": [
           {
            "colorbar": {
             "outlinewidth": 0,
             "ticks": ""
            },
            "colorscale": [
             [
              0,
              "#0d0887"
             ],
             [
              0.1111111111111111,
              "#46039f"
             ],
             [
              0.2222222222222222,
              "#7201a8"
             ],
             [
              0.3333333333333333,
              "#9c179e"
             ],
             [
              0.4444444444444444,
              "#bd3786"
             ],
             [
              0.5555555555555556,
              "#d8576b"
             ],
             [
              0.6666666666666666,
              "#ed7953"
             ],
             [
              0.7777777777777778,
              "#fb9f3a"
             ],
             [
              0.8888888888888888,
              "#fdca26"
             ],
             [
              1,
              "#f0f921"
             ]
            ],
            "type": "heatmap"
           }
          ],
          "heatmapgl": [
           {
            "colorbar": {
             "outlinewidth": 0,
             "ticks": ""
            },
            "colorscale": [
             [
              0,
              "#0d0887"
             ],
             [
              0.1111111111111111,
              "#46039f"
             ],
             [
              0.2222222222222222,
              "#7201a8"
             ],
             [
              0.3333333333333333,
              "#9c179e"
             ],
             [
              0.4444444444444444,
              "#bd3786"
             ],
             [
              0.5555555555555556,
              "#d8576b"
             ],
             [
              0.6666666666666666,
              "#ed7953"
             ],
             [
              0.7777777777777778,
              "#fb9f3a"
             ],
             [
              0.8888888888888888,
              "#fdca26"
             ],
             [
              1,
              "#f0f921"
             ]
            ],
            "type": "heatmapgl"
           }
          ],
          "histogram": [
           {
            "marker": {
             "pattern": {
              "fillmode": "overlay",
              "size": 10,
              "solidity": 0.2
             }
            },
            "type": "histogram"
           }
          ],
          "histogram2d": [
           {
            "colorbar": {
             "outlinewidth": 0,
             "ticks": ""
            },
            "colorscale": [
             [
              0,
              "#0d0887"
             ],
             [
              0.1111111111111111,
              "#46039f"
             ],
             [
              0.2222222222222222,
              "#7201a8"
             ],
             [
              0.3333333333333333,
              "#9c179e"
             ],
             [
              0.4444444444444444,
              "#bd3786"
             ],
             [
              0.5555555555555556,
              "#d8576b"
             ],
             [
              0.6666666666666666,
              "#ed7953"
             ],
             [
              0.7777777777777778,
              "#fb9f3a"
             ],
             [
              0.8888888888888888,
              "#fdca26"
             ],
             [
              1,
              "#f0f921"
             ]
            ],
            "type": "histogram2d"
           }
          ],
          "histogram2dcontour": [
           {
            "colorbar": {
             "outlinewidth": 0,
             "ticks": ""
            },
            "colorscale": [
             [
              0,
              "#0d0887"
             ],
             [
              0.1111111111111111,
              "#46039f"
             ],
             [
              0.2222222222222222,
              "#7201a8"
             ],
             [
              0.3333333333333333,
              "#9c179e"
             ],
             [
              0.4444444444444444,
              "#bd3786"
             ],
             [
              0.5555555555555556,
              "#d8576b"
             ],
             [
              0.6666666666666666,
              "#ed7953"
             ],
             [
              0.7777777777777778,
              "#fb9f3a"
             ],
             [
              0.8888888888888888,
              "#fdca26"
             ],
             [
              1,
              "#f0f921"
             ]
            ],
            "type": "histogram2dcontour"
           }
          ],
          "mesh3d": [
           {
            "colorbar": {
             "outlinewidth": 0,
             "ticks": ""
            },
            "type": "mesh3d"
           }
          ],
          "parcoords": [
           {
            "line": {
             "colorbar": {
              "outlinewidth": 0,
              "ticks": ""
             }
            },
            "type": "parcoords"
           }
          ],
          "pie": [
           {
            "automargin": true,
            "type": "pie"
           }
          ],
          "scatter": [
           {
            "fillpattern": {
             "fillmode": "overlay",
             "size": 10,
             "solidity": 0.2
            },
            "type": "scatter"
           }
          ],
          "scatter3d": [
           {
            "line": {
             "colorbar": {
              "outlinewidth": 0,
              "ticks": ""
             }
            },
            "marker": {
             "colorbar": {
              "outlinewidth": 0,
              "ticks": ""
             }
            },
            "type": "scatter3d"
           }
          ],
          "scattercarpet": [
           {
            "marker": {
             "colorbar": {
              "outlinewidth": 0,
              "ticks": ""
             }
            },
            "type": "scattercarpet"
           }
          ],
          "scattergeo": [
           {
            "marker": {
             "colorbar": {
              "outlinewidth": 0,
              "ticks": ""
             }
            },
            "type": "scattergeo"
           }
          ],
          "scattergl": [
           {
            "marker": {
             "colorbar": {
              "outlinewidth": 0,
              "ticks": ""
             }
            },
            "type": "scattergl"
           }
          ],
          "scattermapbox": [
           {
            "marker": {
             "colorbar": {
              "outlinewidth": 0,
              "ticks": ""
             }
            },
            "type": "scattermapbox"
           }
          ],
          "scatterpolar": [
           {
            "marker": {
             "colorbar": {
              "outlinewidth": 0,
              "ticks": ""
             }
            },
            "type": "scatterpolar"
           }
          ],
          "scatterpolargl": [
           {
            "marker": {
             "colorbar": {
              "outlinewidth": 0,
              "ticks": ""
             }
            },
            "type": "scatterpolargl"
           }
          ],
          "scatterternary": [
           {
            "marker": {
             "colorbar": {
              "outlinewidth": 0,
              "ticks": ""
             }
            },
            "type": "scatterternary"
           }
          ],
          "surface": [
           {
            "colorbar": {
             "outlinewidth": 0,
             "ticks": ""
            },
            "colorscale": [
             [
              0,
              "#0d0887"
             ],
             [
              0.1111111111111111,
              "#46039f"
             ],
             [
              0.2222222222222222,
              "#7201a8"
             ],
             [
              0.3333333333333333,
              "#9c179e"
             ],
             [
              0.4444444444444444,
              "#bd3786"
             ],
             [
              0.5555555555555556,
              "#d8576b"
             ],
             [
              0.6666666666666666,
              "#ed7953"
             ],
             [
              0.7777777777777778,
              "#fb9f3a"
             ],
             [
              0.8888888888888888,
              "#fdca26"
             ],
             [
              1,
              "#f0f921"
             ]
            ],
            "type": "surface"
           }
          ],
          "table": [
           {
            "cells": {
             "fill": {
              "color": "#EBF0F8"
             },
             "line": {
              "color": "white"
             }
            },
            "header": {
             "fill": {
              "color": "#C8D4E3"
             },
             "line": {
              "color": "white"
             }
            },
            "type": "table"
           }
          ]
         },
         "layout": {
          "annotationdefaults": {
           "arrowcolor": "#2a3f5f",
           "arrowhead": 0,
           "arrowwidth": 1
          },
          "autotypenumbers": "strict",
          "coloraxis": {
           "colorbar": {
            "outlinewidth": 0,
            "ticks": ""
           }
          },
          "colorscale": {
           "diverging": [
            [
             0,
             "#8e0152"
            ],
            [
             0.1,
             "#c51b7d"
            ],
            [
             0.2,
             "#de77ae"
            ],
            [
             0.3,
             "#f1b6da"
            ],
            [
             0.4,
             "#fde0ef"
            ],
            [
             0.5,
             "#f7f7f7"
            ],
            [
             0.6,
             "#e6f5d0"
            ],
            [
             0.7,
             "#b8e186"
            ],
            [
             0.8,
             "#7fbc41"
            ],
            [
             0.9,
             "#4d9221"
            ],
            [
             1,
             "#276419"
            ]
           ],
           "sequential": [
            [
             0,
             "#0d0887"
            ],
            [
             0.1111111111111111,
             "#46039f"
            ],
            [
             0.2222222222222222,
             "#7201a8"
            ],
            [
             0.3333333333333333,
             "#9c179e"
            ],
            [
             0.4444444444444444,
             "#bd3786"
            ],
            [
             0.5555555555555556,
             "#d8576b"
            ],
            [
             0.6666666666666666,
             "#ed7953"
            ],
            [
             0.7777777777777778,
             "#fb9f3a"
            ],
            [
             0.8888888888888888,
             "#fdca26"
            ],
            [
             1,
             "#f0f921"
            ]
           ],
           "sequentialminus": [
            [
             0,
             "#0d0887"
            ],
            [
             0.1111111111111111,
             "#46039f"
            ],
            [
             0.2222222222222222,
             "#7201a8"
            ],
            [
             0.3333333333333333,
             "#9c179e"
            ],
            [
             0.4444444444444444,
             "#bd3786"
            ],
            [
             0.5555555555555556,
             "#d8576b"
            ],
            [
             0.6666666666666666,
             "#ed7953"
            ],
            [
             0.7777777777777778,
             "#fb9f3a"
            ],
            [
             0.8888888888888888,
             "#fdca26"
            ],
            [
             1,
             "#f0f921"
            ]
           ]
          },
          "colorway": [
           "#636efa",
           "#EF553B",
           "#00cc96",
           "#ab63fa",
           "#FFA15A",
           "#19d3f3",
           "#FF6692",
           "#B6E880",
           "#FF97FF",
           "#FECB52"
          ],
          "font": {
           "color": "#2a3f5f"
          },
          "geo": {
           "bgcolor": "white",
           "lakecolor": "white",
           "landcolor": "#E5ECF6",
           "showlakes": true,
           "showland": true,
           "subunitcolor": "white"
          },
          "hoverlabel": {
           "align": "left"
          },
          "hovermode": "closest",
          "mapbox": {
           "style": "light"
          },
          "paper_bgcolor": "white",
          "plot_bgcolor": "#E5ECF6",
          "polar": {
           "angularaxis": {
            "gridcolor": "white",
            "linecolor": "white",
            "ticks": ""
           },
           "bgcolor": "#E5ECF6",
           "radialaxis": {
            "gridcolor": "white",
            "linecolor": "white",
            "ticks": ""
           }
          },
          "scene": {
           "xaxis": {
            "backgroundcolor": "#E5ECF6",
            "gridcolor": "white",
            "gridwidth": 2,
            "linecolor": "white",
            "showbackground": true,
            "ticks": "",
            "zerolinecolor": "white"
           },
           "yaxis": {
            "backgroundcolor": "#E5ECF6",
            "gridcolor": "white",
            "gridwidth": 2,
            "linecolor": "white",
            "showbackground": true,
            "ticks": "",
            "zerolinecolor": "white"
           },
           "zaxis": {
            "backgroundcolor": "#E5ECF6",
            "gridcolor": "white",
            "gridwidth": 2,
            "linecolor": "white",
            "showbackground": true,
            "ticks": "",
            "zerolinecolor": "white"
           }
          },
          "shapedefaults": {
           "line": {
            "color": "#2a3f5f"
           }
          },
          "ternary": {
           "aaxis": {
            "gridcolor": "white",
            "linecolor": "white",
            "ticks": ""
           },
           "baxis": {
            "gridcolor": "white",
            "linecolor": "white",
            "ticks": ""
           },
           "bgcolor": "#E5ECF6",
           "caxis": {
            "gridcolor": "white",
            "linecolor": "white",
            "ticks": ""
           }
          },
          "title": {
           "x": 0.05
          },
          "xaxis": {
           "automargin": true,
           "gridcolor": "white",
           "linecolor": "white",
           "ticks": "",
           "title": {
            "standoff": 15
           },
           "zerolinecolor": "white",
           "zerolinewidth": 2
          },
          "yaxis": {
           "automargin": true,
           "gridcolor": "white",
           "linecolor": "white",
           "ticks": "",
           "title": {
            "standoff": 15
           },
           "zerolinecolor": "white",
           "zerolinewidth": 2
          }
         }
        },
        "title": {
         "text": "Stacked Bar Plot"
        },
        "xaxis": {
         "anchor": "y",
         "domain": [
          0,
          1
         ],
         "title": {
          "text": "state"
         }
        },
        "yaxis": {
         "anchor": "x",
         "domain": [
          0,
          1
         ],
         "title": {
          "text": "Proportion distribution in percentage(%)"
         }
        }
       }
      }
     },
     "metadata": {},
     "output_type": "display_data"
    }
   ],
   "source": [
    "\n",
    "df = data.groupby(['state', 'label']).size().unstack(fill_value=0)\n",
    "#df = data.groupby(['state', 'label']).size().unstack(fill_value=0)\n",
    "row_sums = df.sum(axis=1)\n",
    "proportions_df = df.div(row_sums, axis=0)\n",
    "proportions_df = proportions_df.apply(lambda x: round(x*100, 2))\n",
    "fig = px.bar(proportions_df,\n",
    "        barmode='stack',\n",
    "        labels={'index': 'X-axis Labels', 'value': 'Proportion distribution in percentage(%)'},\n",
    "        title='Stacked Bar Plot')\n",
    "#fig.update_geos(fitbounds=\"locations\", visible=False)\n",
    "fig.update_layout(margin={\"r\":0,\"t\":0,\"l\":0,\"b\":0})"
   ]
  },
  {
   "cell_type": "code",
   "execution_count": 30,
   "metadata": {},
   "outputs": [
    {
     "data": {
      "text/plain": [
       "Index(['CT', 'GA', 'MA', 'MD', 'ME', 'NC', 'NH', 'NJ', 'NY', 'PA', 'TN', 'VA',\n",
       "       'VT'],\n",
       "      dtype='object', name='state')"
      ]
     },
     "execution_count": 30,
     "metadata": {},
     "output_type": "execute_result"
    }
   ],
   "source": [
    "proportions_df.index"
   ]
  }
 ],
 "metadata": {
  "kernelspec": {
   "display_name": "Python 3",
   "language": "python",
   "name": "python3"
  },
  "language_info": {
   "codemirror_mode": {
    "name": "ipython",
    "version": 3
   },
   "file_extension": ".py",
   "mimetype": "text/x-python",
   "name": "python",
   "nbconvert_exporter": "python",
   "pygments_lexer": "ipython3",
   "version": "3.11.5"
  },
  "orig_nbformat": 4
 },
 "nbformat": 4,
 "nbformat_minor": 2
}
